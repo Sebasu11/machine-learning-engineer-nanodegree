{
 "cells": [
  {
   "cell_type": "markdown",
   "metadata": {},
   "source": [
    "# Capstone Project: Create a Customer Segmentation Report for Arvato Financial Services\n",
    "\n",
    "In this project, you will analyze demographics data for customers of a mail-order sales company in Germany, comparing it against demographics information for the general population. You'll use unsupervised learning techniques to perform customer segmentation, identifying the parts of the population that best describe the core customer base of the company. Then, you'll apply what you've learned on a third dataset with demographics information for targets of a marketing campaign for the company, and use a model to predict which individuals are most likely to convert into becoming customers for the company. The data that you will use has been provided by our partners at Bertelsmann Arvato Analytics, and represents a real-life data science task.\n",
    "\n",
    "If you completed the first term of this program, you will be familiar with the first part of this project, from the unsupervised learning project. The versions of those two datasets used in this project will include many more features and has not been pre-cleaned. You are also free to choose whatever approach you'd like to analyzing the data rather than follow pre-determined steps. In your work on this project, make sure that you carefully document your steps and decisions, since your main deliverable for this project will be a blog post reporting your findings."
   ]
  },
  {
   "cell_type": "code",
   "execution_count": 1,
   "metadata": {
    "ExecuteTime": {
     "end_time": "2019-12-08T19:58:02.374908Z",
     "start_time": "2019-12-08T19:57:48.534194Z"
    }
   },
   "outputs": [],
   "source": [
    "# import libraries here; add more as necessary\n",
    "import numpy as np\n",
    "import pandas as pd\n",
    "import matplotlib.pyplot as plt\n",
    "import seaborn as sns\n",
    "import warnings\n",
    "warnings.filterwarnings('ignore')\n",
    "# magic word for producing visualizations in notebook\n",
    "%matplotlib inline"
   ]
  },
  {
   "cell_type": "markdown",
   "metadata": {},
   "source": [
    "## Part 0: Get to Know the Data\n",
    "\n",
    "There are four data files associated with this project:\n",
    "\n",
    "- `Udacity_AZDIAS_052018.csv`: Demographics data for the general population of Germany; 891 211 persons (rows) x 366 features (columns).\n",
    "- `Udacity_CUSTOMERS_052018.csv`: Demographics data for customers of a mail-order company; 191 652 persons (rows) x 369 features (columns).\n",
    "- `Udacity_MAILOUT_052018_TRAIN.csv`: Demographics data for individuals who were targets of a marketing campaign; 42 982 persons (rows) x 367 (columns).\n",
    "- `Udacity_MAILOUT_052018_TEST.csv`: Demographics data for individuals who were targets of a marketing campaign; 42 833 persons (rows) x 366 (columns).\n",
    "\n",
    "Each row of the demographics files represents a single person, but also includes information outside of individuals, including information about their household, building, and neighborhood. Use the information from the first two files to figure out how customers (\"CUSTOMERS\") are similar to or differ from the general population at large (\"AZDIAS\"), then use your analysis to make predictions on the other two files (\"MAILOUT\"), predicting which recipients are most likely to become a customer for the mail-order company.\n",
    "\n",
    "The \"CUSTOMERS\" file contains three extra columns ('CUSTOMER_GROUP', 'ONLINE_PURCHASE', and 'PRODUCT_GROUP'), which provide broad information about the customers depicted in the file. The original \"MAILOUT\" file included one additional column, \"RESPONSE\", which indicated whether or not each recipient became a customer of the company. For the \"TRAIN\" subset, this column has been retained, but in the \"TEST\" subset it has been removed; it is against that withheld column that your final predictions will be assessed in the Kaggle competition.\n",
    "\n",
    "Otherwise, all of the remaining columns are the same between the three data files. For more information about the columns depicted in the files, you can refer to two Excel spreadsheets provided in the workspace. [One of them](./DIAS Information Levels - Attributes 2017.xlsx) is a top-level list of attributes and descriptions, organized by informational category. [The other](./DIAS Attributes - Values 2017.xlsx) is a detailed mapping of data values for each feature in alphabetical order.\n",
    "\n",
    "In the below cell, we've provided some initial code to load in the first two datasets. Note for all of the `.csv` data files in this project that they're semicolon (`;`) delimited, so an additional argument in the [`read_csv()`](https://pandas.pydata.org/pandas-docs/stable/generated/pandas.read_csv.html) call has been included to read in the data properly. Also, considering the size of the datasets, it may take some time for them to load completely.\n",
    "\n",
    "You'll notice when the data is loaded in that a warning message will immediately pop up. Before you really start digging into the modeling and analysis, you're going to need to perform some cleaning. Take some time to browse the structure of the data and look over the informational spreadsheets to understand the data values. Make some decisions on which features to keep, which features to drop, and if any revisions need to be made on data formats. It'll be a good idea to create a function with pre-processing steps, since you'll need to clean all of the datasets before you work with them."
   ]
  },
  {
   "cell_type": "code",
   "execution_count": 28,
   "metadata": {
    "ExecuteTime": {
     "end_time": "2019-12-08T20:12:00.592170Z",
     "start_time": "2019-12-08T20:11:19.487882Z"
    }
   },
   "outputs": [],
   "source": [
    "# load in the data\n",
    "azdias = pd.read_csv('data/Udacity_AZDIAS_052018.csv', sep=';')"
   ]
  },
  {
   "cell_type": "code",
   "execution_count": 3,
   "metadata": {
    "ExecuteTime": {
     "end_time": "2019-12-08T19:58:42.736358Z",
     "start_time": "2019-12-08T19:58:42.709285Z"
    }
   },
   "outputs": [
    {
     "name": "stdout",
     "output_type": "stream",
     "text": [
      "<class 'pandas.core.frame.DataFrame'>\n",
      "RangeIndex: 891221 entries, 0 to 891220\n",
      "Columns: 366 entries, LNR to ALTERSKATEGORIE_GROB\n",
      "dtypes: float64(267), int64(93), object(6)\n",
      "memory usage: 2.4+ GB\n"
     ]
    }
   ],
   "source": [
    "azdias.info()"
   ]
  },
  {
   "cell_type": "code",
   "execution_count": 4,
   "metadata": {
    "ExecuteTime": {
     "end_time": "2019-12-08T19:58:42.822653Z",
     "start_time": "2019-12-08T19:58:42.739366Z"
    }
   },
   "outputs": [
    {
     "data": {
      "text/html": [
       "<div>\n",
       "<style scoped>\n",
       "    .dataframe tbody tr th:only-of-type {\n",
       "        vertical-align: middle;\n",
       "    }\n",
       "\n",
       "    .dataframe tbody tr th {\n",
       "        vertical-align: top;\n",
       "    }\n",
       "\n",
       "    .dataframe thead th {\n",
       "        text-align: right;\n",
       "    }\n",
       "</style>\n",
       "<table border=\"1\" class=\"dataframe\">\n",
       "  <thead>\n",
       "    <tr style=\"text-align: right;\">\n",
       "      <th></th>\n",
       "      <th>LNR</th>\n",
       "      <th>AGER_TYP</th>\n",
       "      <th>AKT_DAT_KL</th>\n",
       "      <th>ALTER_HH</th>\n",
       "      <th>ALTER_KIND1</th>\n",
       "      <th>ALTER_KIND2</th>\n",
       "      <th>ALTER_KIND3</th>\n",
       "      <th>ALTER_KIND4</th>\n",
       "      <th>ALTERSKATEGORIE_FEIN</th>\n",
       "      <th>ANZ_HAUSHALTE_AKTIV</th>\n",
       "      <th>...</th>\n",
       "      <th>VHN</th>\n",
       "      <th>VK_DHT4A</th>\n",
       "      <th>VK_DISTANZ</th>\n",
       "      <th>VK_ZG11</th>\n",
       "      <th>W_KEIT_KIND_HH</th>\n",
       "      <th>WOHNDAUER_2008</th>\n",
       "      <th>WOHNLAGE</th>\n",
       "      <th>ZABEOTYP</th>\n",
       "      <th>ANREDE_KZ</th>\n",
       "      <th>ALTERSKATEGORIE_GROB</th>\n",
       "    </tr>\n",
       "  </thead>\n",
       "  <tbody>\n",
       "    <tr>\n",
       "      <th>0</th>\n",
       "      <td>910215</td>\n",
       "      <td>-1</td>\n",
       "      <td>NaN</td>\n",
       "      <td>NaN</td>\n",
       "      <td>NaN</td>\n",
       "      <td>NaN</td>\n",
       "      <td>NaN</td>\n",
       "      <td>NaN</td>\n",
       "      <td>NaN</td>\n",
       "      <td>NaN</td>\n",
       "      <td>...</td>\n",
       "      <td>NaN</td>\n",
       "      <td>NaN</td>\n",
       "      <td>NaN</td>\n",
       "      <td>NaN</td>\n",
       "      <td>NaN</td>\n",
       "      <td>NaN</td>\n",
       "      <td>NaN</td>\n",
       "      <td>3</td>\n",
       "      <td>1</td>\n",
       "      <td>2</td>\n",
       "    </tr>\n",
       "    <tr>\n",
       "      <th>1</th>\n",
       "      <td>910220</td>\n",
       "      <td>-1</td>\n",
       "      <td>9.0</td>\n",
       "      <td>0.0</td>\n",
       "      <td>NaN</td>\n",
       "      <td>NaN</td>\n",
       "      <td>NaN</td>\n",
       "      <td>NaN</td>\n",
       "      <td>21.0</td>\n",
       "      <td>11.0</td>\n",
       "      <td>...</td>\n",
       "      <td>4.0</td>\n",
       "      <td>8.0</td>\n",
       "      <td>11.0</td>\n",
       "      <td>10.0</td>\n",
       "      <td>3.0</td>\n",
       "      <td>9.0</td>\n",
       "      <td>4.0</td>\n",
       "      <td>5</td>\n",
       "      <td>2</td>\n",
       "      <td>1</td>\n",
       "    </tr>\n",
       "    <tr>\n",
       "      <th>2</th>\n",
       "      <td>910225</td>\n",
       "      <td>-1</td>\n",
       "      <td>9.0</td>\n",
       "      <td>17.0</td>\n",
       "      <td>NaN</td>\n",
       "      <td>NaN</td>\n",
       "      <td>NaN</td>\n",
       "      <td>NaN</td>\n",
       "      <td>17.0</td>\n",
       "      <td>10.0</td>\n",
       "      <td>...</td>\n",
       "      <td>2.0</td>\n",
       "      <td>9.0</td>\n",
       "      <td>9.0</td>\n",
       "      <td>6.0</td>\n",
       "      <td>3.0</td>\n",
       "      <td>9.0</td>\n",
       "      <td>2.0</td>\n",
       "      <td>5</td>\n",
       "      <td>2</td>\n",
       "      <td>3</td>\n",
       "    </tr>\n",
       "    <tr>\n",
       "      <th>3</th>\n",
       "      <td>910226</td>\n",
       "      <td>2</td>\n",
       "      <td>1.0</td>\n",
       "      <td>13.0</td>\n",
       "      <td>NaN</td>\n",
       "      <td>NaN</td>\n",
       "      <td>NaN</td>\n",
       "      <td>NaN</td>\n",
       "      <td>13.0</td>\n",
       "      <td>1.0</td>\n",
       "      <td>...</td>\n",
       "      <td>0.0</td>\n",
       "      <td>7.0</td>\n",
       "      <td>10.0</td>\n",
       "      <td>11.0</td>\n",
       "      <td>NaN</td>\n",
       "      <td>9.0</td>\n",
       "      <td>7.0</td>\n",
       "      <td>3</td>\n",
       "      <td>2</td>\n",
       "      <td>4</td>\n",
       "    </tr>\n",
       "    <tr>\n",
       "      <th>4</th>\n",
       "      <td>910241</td>\n",
       "      <td>-1</td>\n",
       "      <td>1.0</td>\n",
       "      <td>20.0</td>\n",
       "      <td>NaN</td>\n",
       "      <td>NaN</td>\n",
       "      <td>NaN</td>\n",
       "      <td>NaN</td>\n",
       "      <td>14.0</td>\n",
       "      <td>3.0</td>\n",
       "      <td>...</td>\n",
       "      <td>2.0</td>\n",
       "      <td>3.0</td>\n",
       "      <td>5.0</td>\n",
       "      <td>4.0</td>\n",
       "      <td>2.0</td>\n",
       "      <td>9.0</td>\n",
       "      <td>3.0</td>\n",
       "      <td>4</td>\n",
       "      <td>1</td>\n",
       "      <td>3</td>\n",
       "    </tr>\n",
       "  </tbody>\n",
       "</table>\n",
       "<p>5 rows × 366 columns</p>\n",
       "</div>"
      ],
      "text/plain": [
       "      LNR  AGER_TYP  AKT_DAT_KL  ALTER_HH  ALTER_KIND1  ALTER_KIND2  \\\n",
       "0  910215        -1         NaN       NaN          NaN          NaN   \n",
       "1  910220        -1         9.0       0.0          NaN          NaN   \n",
       "2  910225        -1         9.0      17.0          NaN          NaN   \n",
       "3  910226         2         1.0      13.0          NaN          NaN   \n",
       "4  910241        -1         1.0      20.0          NaN          NaN   \n",
       "\n",
       "   ALTER_KIND3  ALTER_KIND4  ALTERSKATEGORIE_FEIN  ANZ_HAUSHALTE_AKTIV  \\\n",
       "0          NaN          NaN                   NaN                  NaN   \n",
       "1          NaN          NaN                  21.0                 11.0   \n",
       "2          NaN          NaN                  17.0                 10.0   \n",
       "3          NaN          NaN                  13.0                  1.0   \n",
       "4          NaN          NaN                  14.0                  3.0   \n",
       "\n",
       "          ...           VHN  VK_DHT4A  VK_DISTANZ  VK_ZG11  W_KEIT_KIND_HH  \\\n",
       "0         ...           NaN       NaN         NaN      NaN             NaN   \n",
       "1         ...           4.0       8.0        11.0     10.0             3.0   \n",
       "2         ...           2.0       9.0         9.0      6.0             3.0   \n",
       "3         ...           0.0       7.0        10.0     11.0             NaN   \n",
       "4         ...           2.0       3.0         5.0      4.0             2.0   \n",
       "\n",
       "   WOHNDAUER_2008  WOHNLAGE ZABEOTYP ANREDE_KZ ALTERSKATEGORIE_GROB  \n",
       "0             NaN       NaN        3         1                    2  \n",
       "1             9.0       4.0        5         2                    1  \n",
       "2             9.0       2.0        5         2                    3  \n",
       "3             9.0       7.0        3         2                    4  \n",
       "4             9.0       3.0        4         1                    3  \n",
       "\n",
       "[5 rows x 366 columns]"
      ]
     },
     "execution_count": 4,
     "metadata": {},
     "output_type": "execute_result"
    }
   ],
   "source": [
    "azdias.head()"
   ]
  },
  {
   "cell_type": "code",
   "execution_count": 5,
   "metadata": {
    "ExecuteTime": {
     "end_time": "2019-12-08T19:58:42.829610Z",
     "start_time": "2019-12-08T19:58:42.824595Z"
    }
   },
   "outputs": [
    {
     "data": {
      "text/plain": [
       "(891221, 366)"
      ]
     },
     "execution_count": 5,
     "metadata": {},
     "output_type": "execute_result"
    }
   ],
   "source": [
    "azdias.shape"
   ]
  },
  {
   "cell_type": "markdown",
   "metadata": {},
   "source": [
    "mmmm it seems there are missing values , lest check for them "
   ]
  },
  {
   "cell_type": "code",
   "execution_count": 6,
   "metadata": {
    "ExecuteTime": {
     "end_time": "2019-12-08T19:58:42.849695Z",
     "start_time": "2019-12-08T19:58:42.831629Z"
    }
   },
   "outputs": [],
   "source": [
    "from utils import missing_values_table"
   ]
  },
  {
   "cell_type": "code",
   "execution_count": 7,
   "metadata": {
    "ExecuteTime": {
     "end_time": "2019-12-08T19:58:53.962611Z",
     "start_time": "2019-12-08T19:58:42.851665Z"
    }
   },
   "outputs": [
    {
     "name": "stdout",
     "output_type": "stream",
     "text": [
      "DataFrame have 366 columns.\n",
      "273 at least miss one value.\n"
     ]
    }
   ],
   "source": [
    "azdias_missing=missing_values_table(azdias)"
   ]
  },
  {
   "cell_type": "code",
   "execution_count": 8,
   "metadata": {
    "ExecuteTime": {
     "end_time": "2019-12-08T19:58:53.981660Z",
     "start_time": "2019-12-08T19:58:53.968626Z"
    }
   },
   "outputs": [
    {
     "data": {
      "text/html": [
       "<div>\n",
       "<style scoped>\n",
       "    .dataframe tbody tr th:only-of-type {\n",
       "        vertical-align: middle;\n",
       "    }\n",
       "\n",
       "    .dataframe tbody tr th {\n",
       "        vertical-align: top;\n",
       "    }\n",
       "\n",
       "    .dataframe thead th {\n",
       "        text-align: right;\n",
       "    }\n",
       "</style>\n",
       "<table border=\"1\" class=\"dataframe\">\n",
       "  <thead>\n",
       "    <tr style=\"text-align: right;\">\n",
       "      <th></th>\n",
       "      <th>Missing</th>\n",
       "      <th>% of Total Values</th>\n",
       "    </tr>\n",
       "  </thead>\n",
       "  <tbody>\n",
       "    <tr>\n",
       "      <th>ALTER_KIND4</th>\n",
       "      <td>890016</td>\n",
       "      <td>99.9</td>\n",
       "    </tr>\n",
       "    <tr>\n",
       "      <th>ALTER_KIND3</th>\n",
       "      <td>885051</td>\n",
       "      <td>99.3</td>\n",
       "    </tr>\n",
       "    <tr>\n",
       "      <th>ALTER_KIND2</th>\n",
       "      <td>861722</td>\n",
       "      <td>96.7</td>\n",
       "    </tr>\n",
       "    <tr>\n",
       "      <th>ALTER_KIND1</th>\n",
       "      <td>810163</td>\n",
       "      <td>90.9</td>\n",
       "    </tr>\n",
       "    <tr>\n",
       "      <th>EXTSEL992</th>\n",
       "      <td>654153</td>\n",
       "      <td>73.4</td>\n",
       "    </tr>\n",
       "    <tr>\n",
       "      <th>KK_KUNDENTYP</th>\n",
       "      <td>584612</td>\n",
       "      <td>65.6</td>\n",
       "    </tr>\n",
       "    <tr>\n",
       "      <th>ALTERSKATEGORIE_FEIN</th>\n",
       "      <td>262947</td>\n",
       "      <td>29.5</td>\n",
       "    </tr>\n",
       "    <tr>\n",
       "      <th>D19_SOZIALES</th>\n",
       "      <td>257113</td>\n",
       "      <td>28.8</td>\n",
       "    </tr>\n",
       "    <tr>\n",
       "      <th>D19_LOTTO</th>\n",
       "      <td>257113</td>\n",
       "      <td>28.8</td>\n",
       "    </tr>\n",
       "    <tr>\n",
       "      <th>D19_BANKEN_ONLINE_QUOTE_12</th>\n",
       "      <td>257113</td>\n",
       "      <td>28.8</td>\n",
       "    </tr>\n",
       "  </tbody>\n",
       "</table>\n",
       "</div>"
      ],
      "text/plain": [
       "                            Missing   % of Total Values\n",
       "ALTER_KIND4                   890016               99.9\n",
       "ALTER_KIND3                   885051               99.3\n",
       "ALTER_KIND2                   861722               96.7\n",
       "ALTER_KIND1                   810163               90.9\n",
       "EXTSEL992                     654153               73.4\n",
       "KK_KUNDENTYP                  584612               65.6\n",
       "ALTERSKATEGORIE_FEIN          262947               29.5\n",
       "D19_SOZIALES                  257113               28.8\n",
       "D19_LOTTO                     257113               28.8\n",
       "D19_BANKEN_ONLINE_QUOTE_12    257113               28.8"
      ]
     },
     "execution_count": 8,
     "metadata": {},
     "output_type": "execute_result"
    }
   ],
   "source": [
    "azdias_missing.head(10)"
   ]
  },
  {
   "cell_type": "code",
   "execution_count": 9,
   "metadata": {
    "ExecuteTime": {
     "end_time": "2019-12-08T19:58:54.470286Z",
     "start_time": "2019-12-08T19:58:53.986674Z"
    }
   },
   "outputs": [
    {
     "data": {
      "text/plain": [
       "<matplotlib.axes._subplots.AxesSubplot at 0x16975c46860>"
      ]
     },
     "execution_count": 9,
     "metadata": {},
     "output_type": "execute_result"
    },
    {
     "data": {
      "image/png": "[encoded data removed]",
      "text/plain": [
       "<Figure size 1224x360 with 1 Axes>"
      ]
     },
     "metadata": {},
     "output_type": "display_data"
    }
   ],
   "source": [
    "azdias_missing['% of Total Values'].head(30).plot(kind ='bar', figsize=(17,5))"
   ]
  },
  {
   "cell_type": "markdown",
   "metadata": {},
   "source": [
    "Using the *DIAS Attributes-Values 2017_modify.xlsx* file we can use it to complete missing data and replace it with proper values used in the file. "
   ]
  },
  {
   "cell_type": "code",
   "execution_count": 10,
   "metadata": {
    "ExecuteTime": {
     "end_time": "2019-12-08T19:58:54.480331Z",
     "start_time": "2019-12-08T19:58:54.473308Z"
    }
   },
   "outputs": [],
   "source": [
    "dias = pd.read_csv('data/dias_unknown.csv',sep=';')"
   ]
  },
  {
   "cell_type": "code",
   "execution_count": 12,
   "metadata": {
    "ExecuteTime": {
     "end_time": "2019-12-08T19:58:54.502373Z",
     "start_time": "2019-12-08T19:58:54.497360Z"
    }
   },
   "outputs": [],
   "source": [
    "values_to_replace=dias.set_index('Attribute').to_dict()['Value']"
   ]
  },
  {
   "cell_type": "markdown",
   "metadata": {},
   "source": [
    "This function will replace those value according to the DIAS file, first It will evaluated if a feature has 2 posible options when the value is unknown and will unified them,  then it will replace missing values with **NaN**"
   ]
  },
  {
   "cell_type": "code",
   "execution_count": 13,
   "metadata": {
    "ExecuteTime": {
     "end_time": "2019-12-08T20:03:11.927891Z",
     "start_time": "2019-12-08T19:58:54.505381Z"
    },
    "scrolled": false
   },
   "outputs": [
    {
     "name": "stdout",
     "output_type": "stream",
     "text": [
      "AGER_TYP -1\n",
      "ALTER_HH 0\n",
      "BALLRAUM -1\n",
      "CAMEO_DEUG_2015 -1\n",
      "CJT_GESAMTTYP 0\n",
      "D19_BANKEN_ANZ_12 0\n",
      "D19_BANKEN_ANZ_24 0\n",
      "D19_BANKEN_DATUM 10\n",
      "D19_BANKEN_DIREKT 0\n",
      "D19_BANKEN_GROSS 0\n",
      "D19_BANKEN_LOKAL 0\n",
      "D19_BANKEN_OFFLINE_DATUM 10\n",
      "D19_BANKEN_ONLINE_DATUM 10\n",
      "D19_BANKEN_REST 0\n",
      "D19_BEKLEIDUNG_GEH 0\n",
      "D19_BEKLEIDUNG_REST 0\n",
      "D19_BILDUNG 0\n",
      "D19_BIO_OEKO 0\n",
      "D19_DIGIT_SERV 0\n",
      "D19_DROGERIEARTIKEL 0\n",
      "D19_ENERGIE 0\n",
      "D19_FREIZEIT 0\n",
      "D19_GARTEN 0\n",
      "D19_GESAMT_ANZ_12 0\n",
      "D19_GESAMT_ANZ_24 0\n",
      "D19_GESAMT_DATUM 10\n",
      "D19_GESAMT_OFFLINE_DATUM 10\n",
      "D19_GESAMT_ONLINE_DATUM 10\n",
      "D19_HANDWERK 0\n",
      "D19_HAUS_DEKO 0\n",
      "D19_KINDERARTIKEL 0\n",
      "D19_KOSMETIK 0\n",
      "D19_LEBENSMITTEL 0\n",
      "D19_LOTTO 0\n",
      "D19_NAHRUNGSERGAENZUNG 0\n",
      "D19_RATGEBER 0\n",
      "D19_REISEN 0\n",
      "D19_SAMMELARTIKEL 0\n",
      "D19_SCHUHE 0\n",
      "D19_SONSTIGE 0\n",
      "D19_TECHNIK 0\n",
      "D19_TELKO_ANZ_12 0\n",
      "D19_TELKO_ANZ_24 0\n",
      "D19_TELKO_DATUM 10\n",
      "D19_TELKO_MOBILE 0\n",
      "D19_TELKO_OFFLINE_DATUM 10\n",
      "D19_TELKO_ONLINE_DATUM 10\n",
      "D19_TELKO_REST 0\n",
      "D19_TIERARTIKEL 0\n",
      "D19_VERSAND_ANZ_12 0\n",
      "D19_VERSAND_ANZ_24 0\n",
      "D19_VERSAND_DATUM 10\n",
      "D19_VERSAND_OFFLINE_DATUM 10\n",
      "D19_VERSAND_ONLINE_DATUM 10\n",
      "D19_VERSAND_REST 0\n",
      "D19_VERSI_ANZ_12 0\n",
      "D19_VERSI_ANZ_24 0\n",
      "D19_VERSICHERUNGEN 0\n",
      "D19_VOLLSORTIMENT 0\n",
      "D19_WEIN_FEINKOST 0\n",
      "EWDICHTE -1\n",
      "FINANZ_ANLEGER -1\n",
      "FINANZ_HAUSBAUER -1\n",
      "FINANZ_MINIMALIST -1\n",
      "FINANZ_SPARER -1\n",
      "FINANZ_UNAUFFAELLIGER -1\n",
      "FINANZ_VORSORGER -1\n",
      "FINANZTYP -1\n",
      "GEBAEUDETYP 8\n",
      "HEALTH_TYP -1\n",
      "HH_EINKOMMEN_SCORE -1 0\n",
      "INNENSTADT -1\n",
      "KBA05_ALTER1 -1 9\n",
      "KBA05_ALTER2 -1 9\n",
      "KBA05_ALTER3 -1 9\n",
      "KBA05_ALTER4 -1 9\n",
      "KBA05_ANHANG -1 9\n",
      "KBA05_ANTG1 -1\n",
      "KBA05_ANTG2 -1\n",
      "KBA05_ANTG3 -1\n",
      "KBA05_ANTG4 -1\n",
      "KBA05_AUTOQUOT -1 9\n",
      "KBA05_BAUMAX -1 0\n",
      "KBA05_CCM1 -1 9\n",
      "KBA05_CCM2 -1 9\n",
      "KBA05_CCM3 -1 9\n",
      "KBA05_CCM4 -1 9\n",
      "KBA05_DIESEL -1 9\n",
      "KBA05_FRAU -1 9\n",
      "KBA05_GBZ -1 0\n",
      "KBA05_HERST1 -1 9\n",
      "KBA05_HERST2 -1 9\n",
      "KBA05_HERST3 -1 9\n",
      "KBA05_HERST4 -1 9\n",
      "KBA05_HERST5 -1 9\n",
      "KBA05_HERSTTEMP -1 9\n",
      "KBA05_KRSAQUOT -1 9\n",
      "KBA05_KRSHERST1 -1 9\n",
      "KBA05_KRSHERST2 -1 9\n",
      "KBA05_KRSHERST3 -1 9\n",
      "KBA05_KRSKLEIN -1 9\n",
      "KBA05_KRSOBER -1 9\n",
      "KBA05_KRSVAN -1 9\n",
      "KBA05_KRSZUL -1 9\n",
      "KBA05_KW1 -1 9\n",
      "KBA05_KW2 -1 9\n",
      "KBA05_KW3 -1 9\n",
      "KBA05_MAXAH -1 9\n",
      "KBA05_MAXBJ -1 9\n",
      "KBA05_MAXHERST -1 9\n",
      "KBA05_MAXSEG -1 9\n",
      "KBA05_MAXVORB -1 9\n",
      "KBA05_MOD1 -1 9\n",
      "KBA05_MOD2 -1 9\n",
      "KBA05_MOD3 -1 9\n",
      "KBA05_MOD4 -1 9\n",
      "KBA05_MOD8 -1 9\n",
      "KBA05_MODTEMP -1 9\n",
      "KBA05_MOTOR -1 9\n",
      "KBA05_MOTRAD -1 9\n",
      "KBA05_SEG1 -1 9\n",
      "KBA05_SEG10 -1 9\n",
      "KBA05_SEG2 -1 9\n",
      "KBA05_SEG3 -1 9\n",
      "KBA05_SEG4 -1 9\n",
      "KBA05_SEG5 -1 9\n",
      "KBA05_SEG6 -1 9\n",
      "KBA05_SEG7 -1 9\n",
      "KBA05_SEG8 -1 9\n",
      "KBA05_SEG9 -1 9\n",
      "KBA05_VORB0 -1 9\n",
      "KBA05_VORB1 -1 9\n",
      "KBA05_VORB2 -1 9\n",
      "KBA05_ZUL1 -1 9\n",
      "KBA05_ZUL2 -1 9\n",
      "KBA05_ZUL3 -1 9\n",
      "KBA05_ZUL4 -1 9\n",
      "KBA13_ALTERHALTER_30 -1\n",
      "KBA13_ALTERHALTER_45 -1\n",
      "KBA13_ALTERHALTER_60 -1\n",
      "KBA13_ALTERHALTER_61 -1\n",
      "KBA13_AUDI -1\n",
      "KBA13_AUTOQUOTE -1\n",
      "KBA13_BJ_1999 -1\n",
      "KBA13_BJ_2000 -1\n",
      "KBA13_BJ_2004 -1\n",
      "KBA13_BJ_2006 -1\n",
      "KBA13_BJ_2008 -1\n",
      "KBA13_BJ_2009 -1\n",
      "KBA13_BMW -1\n",
      "KBA13_CCM_0_1400 -1\n",
      "KBA13_CCM_1000 -1\n",
      "KBA13_CCM_1200 -1\n",
      "KBA13_CCM_1400 -1\n",
      "KBA13_CCM_1500 -1\n",
      "KBA13_CCM_1600 -1\n",
      "KBA13_CCM_1800 -1\n",
      "KBA13_CCM_2000 -1\n",
      "KBA13_CCM_2500 -1\n",
      "KBA13_CCM_2501 -1\n",
      "KBA13_CCM_3000 -1\n",
      "KBA13_CCM_3001 -1\n",
      "KBA13_FAB_ASIEN -1\n",
      "KBA13_FAB_SONSTIGE -1\n",
      "KBA13_FIAT -1\n",
      "KBA13_FORD -1\n",
      "KBA13_HALTER_20 -1\n",
      "KBA13_HALTER_25 -1\n",
      "KBA13_HALTER_30 -1\n",
      "KBA13_HALTER_35 -1\n",
      "KBA13_HALTER_40 -1\n",
      "KBA13_HALTER_45 -1\n",
      "KBA13_HALTER_50 -1\n",
      "KBA13_HALTER_55 -1\n",
      "KBA13_HALTER_60 -1\n",
      "KBA13_HALTER_65 -1\n",
      "KBA13_HALTER_66 -1\n",
      "KBA13_HERST_ASIEN -1\n",
      "KBA13_HERST_AUDI_VW -1\n",
      "KBA13_HERST_BMW_BENZ -1\n",
      "KBA13_HERST_EUROPA -1\n",
      "KBA13_HERST_FORD_OPEL -1\n",
      "KBA13_HERST_SONST -1\n",
      "KBA13_KMH_0_140 -1\n",
      "KBA13_KMH_110 -1\n",
      "KBA13_KMH_140 -1\n",
      "KBA13_KMH_140_210 -1\n",
      "KBA13_KMH_180 -1\n",
      "KBA13_KMH_211 -1\n",
      "KBA13_KMH_250 -1\n",
      "KBA13_KMH_251 -1\n",
      "KBA13_KRSAQUOT -1\n",
      "KBA13_KRSHERST_AUDI_VW -1\n",
      "KBA13_KRSHERST_BMW_BENZ -1\n",
      "KBA13_KRSHERST_FORD_OPEL -1\n",
      "KBA13_KRSSEG_KLEIN -1\n",
      "KBA13_KRSSEG_OBER -1\n",
      "KBA13_KRSSEG_VAN -1\n",
      "KBA13_KRSZUL_NEU -1\n",
      "KBA13_KW_0_60 -1\n",
      "KBA13_KW_110 -1\n",
      "KBA13_KW_120 -1\n",
      "KBA13_KW_121 -1\n",
      "KBA13_KW_30 -1\n",
      "KBA13_KW_40 -1\n",
      "KBA13_KW_50 -1\n",
      "KBA13_KW_60 -1\n",
      "KBA13_KW_61_120 -1\n",
      "KBA13_KW_70 -1\n",
      "KBA13_KW_80 -1\n",
      "KBA13_KW_90 -1\n",
      "KBA13_MAZDA -1\n",
      "KBA13_MERCEDES -1\n",
      "KBA13_MOTOR -1\n",
      "KBA13_NISSAN -1\n",
      "KBA13_OPEL -1\n",
      "KBA13_PEUGEOT -1\n",
      "KBA13_RENAULT -1\n",
      "KBA13_SEG_GELAENDEWAGEN -1\n",
      "KBA13_SEG_GROSSRAUMVANS -1\n",
      "KBA13_SEG_KLEINST -1\n",
      "KBA13_SEG_KLEINWAGEN -1\n",
      "KBA13_SEG_KOMPAKTKLASSE -1\n",
      "KBA13_SEG_MINIVANS -1\n",
      "KBA13_SEG_MINIWAGEN -1\n",
      "KBA13_SEG_MITTELKLASSE -1\n",
      "KBA13_SEG_OBEREMITTELKLASSE -1\n",
      "KBA13_SEG_OBERKLASSE -1\n",
      "KBA13_SEG_SONSTIGE -1\n",
      "KBA13_SEG_SPORTWAGEN -1\n",
      "KBA13_SEG_UTILITIES -1\n",
      "KBA13_SEG_VAN -1\n",
      "KBA13_SEG_WOHNMOBILE -1\n",
      "KBA13_SITZE_4 -1\n",
      "KBA13_SITZE_5 -1\n",
      "KBA13_SITZE_6 -1\n",
      "KBA13_TOYOTA -1\n",
      "KBA13_VORB_0 -1\n",
      "KBA13_VORB_1 -1\n",
      "KBA13_VORB_1_2 -1\n",
      "KBA13_VORB_2 -1\n",
      "KBA13_VORB_3 -1\n",
      "KBA13_VW -1\n",
      "KKK -1 0\n",
      "NATIONALITAET_KZ -1 0\n",
      "ORTSGR_KLS9 -1\n",
      "OST_WEST_KZ -1\n",
      "PLZ8_ANTG1 -1\n",
      "PLZ8_ANTG2 -1\n",
      "PLZ8_ANTG3 -1\n",
      "PLZ8_ANTG4 -1\n",
      "PLZ8_GBZ -1\n",
      "PLZ8_HHZ -1\n",
      "PRAEGENDE_JUGENDJAHRE -1 0\n",
      "REGIOTYP -1 0\n",
      "RELAT_AB -1 9\n",
      "RETOURTYP_BK_S 0\n",
      "SEMIO_DOM -1 9\n",
      "SEMIO_ERL -1 9\n",
      "SEMIO_FAM -1 9\n",
      "SEMIO_KAEM -1 9\n",
      "SEMIO_KRIT -1 9\n",
      "SEMIO_KULT -1 9\n",
      "SEMIO_LUST -1 9\n",
      "SEMIO_MAT -1 9\n",
      "SEMIO_PFLICHT -1 9\n",
      "SEMIO_RAT -1 9\n",
      "SEMIO_REL -1 9\n",
      "SEMIO_SOZ -1 9\n",
      "SEMIO_TRADV -1 9\n",
      "SEMIO_VERT -1 9\n",
      "SHOPPER_TYP -1\n",
      "TITEL_KZ -1 0\n",
      "VERS_TYP -1\n",
      "W_KEIT_KIND_HH -1 0\n",
      "WOHNDAUER_2008 -1 0\n",
      "WOHNLAGE -1\n",
      "ZABEOTYP -1 9\n",
      "ANREDE_KZ -1 0\n",
      "ALTERSKATEGORIE_GROB -1 0\n",
      "Wall time: 4min 17s\n"
     ]
    }
   ],
   "source": [
    "%%time\n",
    "for col in azdias.columns:\n",
    "    if col in dias.Attribute.unique():\n",
    "        if(len(values_to_replace[col].split(','))>1):\n",
    "            print(col,int(values_to_replace[col].split(',')[0]),\n",
    "                                             int(values_to_replace[col].split(',')[1]))\n",
    "            azdias.loc[azdias[col]==int(values_to_replace[col].split(',')[1]), col] = int(values_to_replace[col].split(',')[0])\n",
    "            azdias.loc[azdias[col]==int(values_to_replace[col].split(',')[0]), col] = np.nan\n",
    "        else:\n",
    "            print(col,values_to_replace[col])\n",
    "            azdias.loc[azdias[col]==int(values_to_replace[col]), col] = np.nan#int(values_to_replace[col])            "
   ]
  },
  {
   "cell_type": "code",
   "execution_count": 30,
   "metadata": {
    "ExecuteTime": {
     "end_time": "2019-12-08T20:12:39.736378Z",
     "start_time": "2019-12-08T20:12:39.732408Z"
    }
   },
   "outputs": [
    {
     "data": {
      "text/plain": [
       "(891221, 366)"
      ]
     },
     "execution_count": 30,
     "metadata": {},
     "output_type": "execute_result"
    }
   ],
   "source": [
    "azdias.shape"
   ]
  },
  {
   "cell_type": "code",
   "execution_count": 37,
   "metadata": {
    "ExecuteTime": {
     "end_time": "2019-12-08T20:17:44.304947Z",
     "start_time": "2019-12-08T20:17:44.300963Z"
    }
   },
   "outputs": [
    {
     "data": {
      "text/plain": [
       "True"
      ]
     },
     "execution_count": 37,
     "metadata": {},
     "output_type": "execute_result"
    }
   ],
   "source": [
    "#azdias['KK_KUNDENTYP'].value_counts()\n",
    "'D19_KK_KUNDENTYP' in dias.Attribute.tolist()"
   ]
  },
  {
   "cell_type": "code",
   "execution_count": 21,
   "metadata": {
    "ExecuteTime": {
     "end_time": "2019-12-08T20:06:39.174805Z",
     "start_time": "2019-12-08T20:06:28.177074Z"
    }
   },
   "outputs": [
    {
     "name": "stdout",
     "output_type": "stream",
     "text": [
      "DataFrame have 366 columns.\n",
      "333 at least miss one value.\n"
     ]
    }
   ],
   "source": [
    "azdias_missing=missing_values_table(azdias)"
   ]
  },
  {
   "cell_type": "code",
   "execution_count": 24,
   "metadata": {
    "ExecuteTime": {
     "end_time": "2019-12-08T20:07:29.058989Z",
     "start_time": "2019-12-08T20:07:27.930563Z"
    }
   },
   "outputs": [
    {
     "data": {
      "text/plain": [
       "<matplotlib.axes._subplots.AxesSubplot at 0x169bd95e1d0>"
      ]
     },
     "execution_count": 24,
     "metadata": {},
     "output_type": "execute_result"
    },
    {
     "data": {
      "image/png": "[encoded data removed]",
      "text/plain": [
       "<Figure size 1224x360 with 1 Axes>"
      ]
     },
     "metadata": {},
     "output_type": "display_data"
    }
   ],
   "source": [
    "azdias_missing['% of Total Values'].head(70).plot(kind ='bar', figsize=(17,5))"
   ]
  },
  {
   "cell_type": "code",
   "execution_count": 25,
   "metadata": {
    "ExecuteTime": {
     "end_time": "2019-12-08T20:07:46.437078Z",
     "start_time": "2019-12-08T20:07:46.328784Z"
    }
   },
   "outputs": [
    {
     "data": {
      "text/plain": [
       "<matplotlib.axes._subplots.AxesSubplot at 0x16975b64f60>"
      ]
     },
     "execution_count": 25,
     "metadata": {},
     "output_type": "execute_result"
    },
    {
     "data": {
      "image/png": "[encoded data removed]",
      "text/plain": [
       "<Figure size 720x216 with 1 Axes>"
      ]
     },
     "metadata": {},
     "output_type": "display_data"
    }
   ],
   "source": [
    "azdias_missing['% of Total Values'].plot(kind ='box', figsize=(10,3),vert=False)"
   ]
  },
  {
   "cell_type": "code",
   "execution_count": 27,
   "metadata": {
    "ExecuteTime": {
     "end_time": "2019-12-08T20:09:45.676830Z",
     "start_time": "2019-12-08T20:09:45.659785Z"
    }
   },
   "outputs": [
    {
     "data": {
      "text/html": [
       "<div>\n",
       "<style scoped>\n",
       "    .dataframe tbody tr th:only-of-type {\n",
       "        vertical-align: middle;\n",
       "    }\n",
       "\n",
       "    .dataframe tbody tr th {\n",
       "        vertical-align: top;\n",
       "    }\n",
       "\n",
       "    .dataframe thead th {\n",
       "        text-align: right;\n",
       "    }\n",
       "</style>\n",
       "<table border=\"1\" class=\"dataframe\">\n",
       "  <thead>\n",
       "    <tr style=\"text-align: right;\">\n",
       "      <th></th>\n",
       "      <th>Missing</th>\n",
       "      <th>% of Total Values</th>\n",
       "    </tr>\n",
       "  </thead>\n",
       "  <tbody>\n",
       "    <tr>\n",
       "      <th>ALTER_KIND4</th>\n",
       "      <td>890016</td>\n",
       "      <td>99.9</td>\n",
       "    </tr>\n",
       "    <tr>\n",
       "      <th>TITEL_KZ</th>\n",
       "      <td>889061</td>\n",
       "      <td>99.8</td>\n",
       "    </tr>\n",
       "    <tr>\n",
       "      <th>ALTER_KIND3</th>\n",
       "      <td>885051</td>\n",
       "      <td>99.3</td>\n",
       "    </tr>\n",
       "    <tr>\n",
       "      <th>D19_TELKO_ONLINE_DATUM</th>\n",
       "      <td>883018</td>\n",
       "      <td>99.1</td>\n",
       "    </tr>\n",
       "    <tr>\n",
       "      <th>D19_BANKEN_LOKAL</th>\n",
       "      <td>874745</td>\n",
       "      <td>98.2</td>\n",
       "    </tr>\n",
       "    <tr>\n",
       "      <th>D19_BANKEN_OFFLINE_DATUM</th>\n",
       "      <td>871535</td>\n",
       "      <td>97.8</td>\n",
       "    </tr>\n",
       "    <tr>\n",
       "      <th>ALTER_KIND2</th>\n",
       "      <td>861722</td>\n",
       "      <td>96.7</td>\n",
       "    </tr>\n",
       "    <tr>\n",
       "      <th>D19_TELKO_ANZ_12</th>\n",
       "      <td>857990</td>\n",
       "      <td>96.3</td>\n",
       "    </tr>\n",
       "    <tr>\n",
       "      <th>D19_DIGIT_SERV</th>\n",
       "      <td>857661</td>\n",
       "      <td>96.2</td>\n",
       "    </tr>\n",
       "    <tr>\n",
       "      <th>D19_BIO_OEKO</th>\n",
       "      <td>854074</td>\n",
       "      <td>95.8</td>\n",
       "    </tr>\n",
       "    <tr>\n",
       "      <th>D19_TIERARTIKEL</th>\n",
       "      <td>852220</td>\n",
       "      <td>95.6</td>\n",
       "    </tr>\n",
       "    <tr>\n",
       "      <th>D19_NAHRUNGSERGAENZUNG</th>\n",
       "      <td>852176</td>\n",
       "      <td>95.6</td>\n",
       "    </tr>\n",
       "    <tr>\n",
       "      <th>D19_GARTEN</th>\n",
       "      <td>851626</td>\n",
       "      <td>95.6</td>\n",
       "    </tr>\n",
       "    <tr>\n",
       "      <th>D19_LEBENSMITTEL</th>\n",
       "      <td>837914</td>\n",
       "      <td>94.0</td>\n",
       "    </tr>\n",
       "    <tr>\n",
       "      <th>D19_WEIN_FEINKOST</th>\n",
       "      <td>836142</td>\n",
       "      <td>93.8</td>\n",
       "    </tr>\n",
       "    <tr>\n",
       "      <th>D19_BANKEN_ANZ_12</th>\n",
       "      <td>831734</td>\n",
       "      <td>93.3</td>\n",
       "    </tr>\n",
       "    <tr>\n",
       "      <th>D19_ENERGIE</th>\n",
       "      <td>829857</td>\n",
       "      <td>93.1</td>\n",
       "    </tr>\n",
       "    <tr>\n",
       "      <th>D19_TELKO_ANZ_24</th>\n",
       "      <td>826208</td>\n",
       "      <td>92.7</td>\n",
       "    </tr>\n",
       "    <tr>\n",
       "      <th>D19_BANKEN_REST</th>\n",
       "      <td>821760</td>\n",
       "      <td>92.2</td>\n",
       "    </tr>\n",
       "    <tr>\n",
       "      <th>D19_VERSI_ANZ_12</th>\n",
       "      <td>821289</td>\n",
       "      <td>92.2</td>\n",
       "    </tr>\n",
       "    <tr>\n",
       "      <th>D19_TELKO_OFFLINE_DATUM</th>\n",
       "      <td>819114</td>\n",
       "      <td>91.9</td>\n",
       "    </tr>\n",
       "    <tr>\n",
       "      <th>D19_BILDUNG</th>\n",
       "      <td>813156</td>\n",
       "      <td>91.2</td>\n",
       "    </tr>\n",
       "    <tr>\n",
       "      <th>ALTER_KIND1</th>\n",
       "      <td>810163</td>\n",
       "      <td>90.9</td>\n",
       "    </tr>\n",
       "    <tr>\n",
       "      <th>D19_BEKLEIDUNG_GEH</th>\n",
       "      <td>809304</td>\n",
       "      <td>90.8</td>\n",
       "    </tr>\n",
       "    <tr>\n",
       "      <th>D19_RATGEBER</th>\n",
       "      <td>805071</td>\n",
       "      <td>90.3</td>\n",
       "    </tr>\n",
       "    <tr>\n",
       "      <th>D19_SAMMELARTIKEL</th>\n",
       "      <td>802085</td>\n",
       "      <td>90.0</td>\n",
       "    </tr>\n",
       "    <tr>\n",
       "      <th>D19_BANKEN_ANZ_24</th>\n",
       "      <td>794100</td>\n",
       "      <td>89.1</td>\n",
       "    </tr>\n",
       "    <tr>\n",
       "      <th>D19_FREIZEIT</th>\n",
       "      <td>790748</td>\n",
       "      <td>88.7</td>\n",
       "    </tr>\n",
       "    <tr>\n",
       "      <th>D19_BANKEN_GROSS</th>\n",
       "      <td>785351</td>\n",
       "      <td>88.1</td>\n",
       "    </tr>\n",
       "    <tr>\n",
       "      <th>D19_VERSI_ANZ_24</th>\n",
       "      <td>777037</td>\n",
       "      <td>87.2</td>\n",
       "    </tr>\n",
       "    <tr>\n",
       "      <th>...</th>\n",
       "      <td>...</td>\n",
       "      <td>...</td>\n",
       "    </tr>\n",
       "    <tr>\n",
       "      <th>D19_KINDERARTIKEL</th>\n",
       "      <td>749365</td>\n",
       "      <td>84.1</td>\n",
       "    </tr>\n",
       "    <tr>\n",
       "      <th>D19_LOTTO</th>\n",
       "      <td>747956</td>\n",
       "      <td>83.9</td>\n",
       "    </tr>\n",
       "    <tr>\n",
       "      <th>D19_KOSMETIK</th>\n",
       "      <td>745836</td>\n",
       "      <td>83.7</td>\n",
       "    </tr>\n",
       "    <tr>\n",
       "      <th>D19_REISEN</th>\n",
       "      <td>736924</td>\n",
       "      <td>82.7</td>\n",
       "    </tr>\n",
       "    <tr>\n",
       "      <th>D19_VERSAND_REST</th>\n",
       "      <td>734442</td>\n",
       "      <td>82.4</td>\n",
       "    </tr>\n",
       "    <tr>\n",
       "      <th>D19_BANKEN_DIREKT</th>\n",
       "      <td>728811</td>\n",
       "      <td>81.8</td>\n",
       "    </tr>\n",
       "    <tr>\n",
       "      <th>D19_BANKEN_ONLINE_DATUM</th>\n",
       "      <td>726982</td>\n",
       "      <td>81.6</td>\n",
       "    </tr>\n",
       "    <tr>\n",
       "      <th>D19_TELKO_MOBILE</th>\n",
       "      <td>726804</td>\n",
       "      <td>81.6</td>\n",
       "    </tr>\n",
       "    <tr>\n",
       "      <th>D19_HAUS_DEKO</th>\n",
       "      <td>713100</td>\n",
       "      <td>80.0</td>\n",
       "    </tr>\n",
       "    <tr>\n",
       "      <th>D19_BEKLEIDUNG_REST</th>\n",
       "      <td>692502</td>\n",
       "      <td>77.7</td>\n",
       "    </tr>\n",
       "    <tr>\n",
       "      <th>D19_BANKEN_DATUM</th>\n",
       "      <td>678331</td>\n",
       "      <td>76.1</td>\n",
       "    </tr>\n",
       "    <tr>\n",
       "      <th>AGER_TYP</th>\n",
       "      <td>677503</td>\n",
       "      <td>76.0</td>\n",
       "    </tr>\n",
       "    <tr>\n",
       "      <th>D19_TELKO_DATUM</th>\n",
       "      <td>665798</td>\n",
       "      <td>74.7</td>\n",
       "    </tr>\n",
       "    <tr>\n",
       "      <th>D19_VERSICHERUNGEN</th>\n",
       "      <td>654664</td>\n",
       "      <td>73.5</td>\n",
       "    </tr>\n",
       "    <tr>\n",
       "      <th>EXTSEL992</th>\n",
       "      <td>654153</td>\n",
       "      <td>73.4</td>\n",
       "    </tr>\n",
       "    <tr>\n",
       "      <th>D19_VERSAND_ANZ_12</th>\n",
       "      <td>637972</td>\n",
       "      <td>71.6</td>\n",
       "    </tr>\n",
       "    <tr>\n",
       "      <th>D19_VERSAND_OFFLINE_DATUM</th>\n",
       "      <td>634233</td>\n",
       "      <td>71.2</td>\n",
       "    </tr>\n",
       "    <tr>\n",
       "      <th>D19_TECHNIK</th>\n",
       "      <td>630101</td>\n",
       "      <td>70.7</td>\n",
       "    </tr>\n",
       "    <tr>\n",
       "      <th>D19_VOLLSORTIMENT</th>\n",
       "      <td>600002</td>\n",
       "      <td>67.3</td>\n",
       "    </tr>\n",
       "    <tr>\n",
       "      <th>D19_GESAMT_ANZ_12</th>\n",
       "      <td>584797</td>\n",
       "      <td>65.6</td>\n",
       "    </tr>\n",
       "    <tr>\n",
       "      <th>KK_KUNDENTYP</th>\n",
       "      <td>584612</td>\n",
       "      <td>65.6</td>\n",
       "    </tr>\n",
       "    <tr>\n",
       "      <th>D19_VERSAND_ANZ_24</th>\n",
       "      <td>563818</td>\n",
       "      <td>63.3</td>\n",
       "    </tr>\n",
       "    <tr>\n",
       "      <th>D19_GESAMT_OFFLINE_DATUM</th>\n",
       "      <td>558558</td>\n",
       "      <td>62.7</td>\n",
       "    </tr>\n",
       "    <tr>\n",
       "      <th>D19_SONSTIGE</th>\n",
       "      <td>505953</td>\n",
       "      <td>56.8</td>\n",
       "    </tr>\n",
       "    <tr>\n",
       "      <th>D19_GESAMT_ANZ_24</th>\n",
       "      <td>505303</td>\n",
       "      <td>56.7</td>\n",
       "    </tr>\n",
       "    <tr>\n",
       "      <th>D19_VERSAND_ONLINE_DATUM</th>\n",
       "      <td>494464</td>\n",
       "      <td>55.5</td>\n",
       "    </tr>\n",
       "    <tr>\n",
       "      <th>KBA05_BAUMAX</th>\n",
       "      <td>476524</td>\n",
       "      <td>53.5</td>\n",
       "    </tr>\n",
       "    <tr>\n",
       "      <th>D19_GESAMT_ONLINE_DATUM</th>\n",
       "      <td>450995</td>\n",
       "      <td>50.6</td>\n",
       "    </tr>\n",
       "    <tr>\n",
       "      <th>D19_VERSAND_DATUM</th>\n",
       "      <td>437886</td>\n",
       "      <td>49.1</td>\n",
       "    </tr>\n",
       "    <tr>\n",
       "      <th>D19_GESAMT_DATUM</th>\n",
       "      <td>354170</td>\n",
       "      <td>39.7</td>\n",
       "    </tr>\n",
       "  </tbody>\n",
       "</table>\n",
       "<p>64 rows × 2 columns</p>\n",
       "</div>"
      ],
      "text/plain": [
       "                           Missing   % of Total Values\n",
       "ALTER_KIND4                  890016               99.9\n",
       "TITEL_KZ                     889061               99.8\n",
       "ALTER_KIND3                  885051               99.3\n",
       "D19_TELKO_ONLINE_DATUM       883018               99.1\n",
       "D19_BANKEN_LOKAL             874745               98.2\n",
       "D19_BANKEN_OFFLINE_DATUM     871535               97.8\n",
       "ALTER_KIND2                  861722               96.7\n",
       "D19_TELKO_ANZ_12             857990               96.3\n",
       "D19_DIGIT_SERV               857661               96.2\n",
       "D19_BIO_OEKO                 854074               95.8\n",
       "D19_TIERARTIKEL              852220               95.6\n",
       "D19_NAHRUNGSERGAENZUNG       852176               95.6\n",
       "D19_GARTEN                   851626               95.6\n",
       "D19_LEBENSMITTEL             837914               94.0\n",
       "D19_WEIN_FEINKOST            836142               93.8\n",
       "D19_BANKEN_ANZ_12            831734               93.3\n",
       "D19_ENERGIE                  829857               93.1\n",
       "D19_TELKO_ANZ_24             826208               92.7\n",
       "D19_BANKEN_REST              821760               92.2\n",
       "D19_VERSI_ANZ_12             821289               92.2\n",
       "D19_TELKO_OFFLINE_DATUM      819114               91.9\n",
       "D19_BILDUNG                  813156               91.2\n",
       "ALTER_KIND1                  810163               90.9\n",
       "D19_BEKLEIDUNG_GEH           809304               90.8\n",
       "D19_RATGEBER                 805071               90.3\n",
       "D19_SAMMELARTIKEL            802085               90.0\n",
       "D19_BANKEN_ANZ_24            794100               89.1\n",
       "D19_FREIZEIT                 790748               88.7\n",
       "D19_BANKEN_GROSS             785351               88.1\n",
       "D19_VERSI_ANZ_24             777037               87.2\n",
       "...                             ...                ...\n",
       "D19_KINDERARTIKEL            749365               84.1\n",
       "D19_LOTTO                    747956               83.9\n",
       "D19_KOSMETIK                 745836               83.7\n",
       "D19_REISEN                   736924               82.7\n",
       "D19_VERSAND_REST             734442               82.4\n",
       "D19_BANKEN_DIREKT            728811               81.8\n",
       "D19_BANKEN_ONLINE_DATUM      726982               81.6\n",
       "D19_TELKO_MOBILE             726804               81.6\n",
       "D19_HAUS_DEKO                713100               80.0\n",
       "D19_BEKLEIDUNG_REST          692502               77.7\n",
       "D19_BANKEN_DATUM             678331               76.1\n",
       "AGER_TYP                     677503               76.0\n",
       "D19_TELKO_DATUM              665798               74.7\n",
       "D19_VERSICHERUNGEN           654664               73.5\n",
       "EXTSEL992                    654153               73.4\n",
       "D19_VERSAND_ANZ_12           637972               71.6\n",
       "D19_VERSAND_OFFLINE_DATUM    634233               71.2\n",
       "D19_TECHNIK                  630101               70.7\n",
       "D19_VOLLSORTIMENT            600002               67.3\n",
       "D19_GESAMT_ANZ_12            584797               65.6\n",
       "KK_KUNDENTYP                 584612               65.6\n",
       "D19_VERSAND_ANZ_24           563818               63.3\n",
       "D19_GESAMT_OFFLINE_DATUM     558558               62.7\n",
       "D19_SONSTIGE                 505953               56.8\n",
       "D19_GESAMT_ANZ_24            505303               56.7\n",
       "D19_VERSAND_ONLINE_DATUM     494464               55.5\n",
       "KBA05_BAUMAX                 476524               53.5\n",
       "D19_GESAMT_ONLINE_DATUM      450995               50.6\n",
       "D19_VERSAND_DATUM            437886               49.1\n",
       "D19_GESAMT_DATUM             354170               39.7\n",
       "\n",
       "[64 rows x 2 columns]"
      ]
     },
     "execution_count": 27,
     "metadata": {},
     "output_type": "execute_result"
    }
   ],
   "source": [
    "azdias_missing[azdias_missing['% of Total Values']>39]"
   ]
  },
  {
   "cell_type": "code",
   "execution_count": 18,
   "metadata": {
    "ExecuteTime": {
     "end_time": "2019-12-08T20:03:26.242952Z",
     "start_time": "2019-12-08T20:03:26.239944Z"
    }
   },
   "outputs": [],
   "source": [
    "# Be sure to add in a lot more cells (both markdown and code) to document your\n",
    "# approach and findings!"
   ]
  },
  {
   "cell_type": "markdown",
   "metadata": {},
   "source": [
    "## Part 1: Customer Segmentation Report\n",
    "\n",
    "The main bulk of your analysis will come in this part of the project. Here, you should use unsupervised learning techniques to describe the relationship between the demographics of the company's existing customers and the general population of Germany. By the end of this part, you should be able to describe parts of the general population that are more likely to be part of the mail-order company's main customer base, and which parts of the general population are less so."
   ]
  },
  {
   "cell_type": "code",
   "execution_count": null,
   "metadata": {},
   "outputs": [],
   "source": []
  },
  {
   "cell_type": "markdown",
   "metadata": {},
   "source": [
    "## Part 2: Supervised Learning Model\n",
    "\n",
    "Now that you've found which parts of the population are more likely to be customers of the mail-order company, it's time to build a prediction model. Each of the rows in the \"MAILOUT\" data files represents an individual that was targeted for a mailout campaign. Ideally, we should be able to use the demographic information from each individual to decide whether or not it will be worth it to include that person in the campaign.\n",
    "\n",
    "The \"MAILOUT\" data has been split into two approximately equal parts, each with almost 43 000 data rows. In this part, you can verify your model with the \"TRAIN\" partition, which includes a column, \"RESPONSE\", that states whether or not a person became a customer of the company following the campaign. In the next part, you'll need to create predictions on the \"TEST\" partition, where the \"RESPONSE\" column has been withheld."
   ]
  },
  {
   "cell_type": "code",
   "execution_count": 19,
   "metadata": {
    "ExecuteTime": {
     "end_time": "2019-12-08T20:03:26.767149Z",
     "start_time": "2019-12-08T20:03:26.245971Z"
    }
   },
   "outputs": [
    {
     "ename": "FileNotFoundError",
     "evalue": "File b'../../data/Term2/capstone/arvato_data/Udacity_MAILOUT_052018_TRAIN.csv' does not exist",
     "output_type": "error",
     "traceback": [
      "\u001b[1;31m---------------------------------------------------------------------------\u001b[0m",
      "\u001b[1;31mFileNotFoundError\u001b[0m                         Traceback (most recent call last)",
      "\u001b[1;32m<ipython-input-19-47db2225acf8>\u001b[0m in \u001b[0;36m<module>\u001b[1;34m()\u001b[0m\n\u001b[1;32m----> 1\u001b[1;33m \u001b[0mmailout_train\u001b[0m \u001b[1;33m=\u001b[0m \u001b[0mpd\u001b[0m\u001b[1;33m.\u001b[0m\u001b[0mread_csv\u001b[0m\u001b[1;33m(\u001b[0m\u001b[1;34m'../../data/Term2/capstone/arvato_data/Udacity_MAILOUT_052018_TRAIN.csv'\u001b[0m\u001b[1;33m,\u001b[0m \u001b[0msep\u001b[0m\u001b[1;33m=\u001b[0m\u001b[1;34m';'\u001b[0m\u001b[1;33m)\u001b[0m\u001b[1;33m\u001b[0m\u001b[0m\n\u001b[0m",
      "\u001b[1;32mD:\\Anaconda3\\lib\\site-packages\\pandas\\io\\parsers.py\u001b[0m in \u001b[0;36mparser_f\u001b[1;34m(filepath_or_buffer, sep, delimiter, header, names, index_col, usecols, squeeze, prefix, mangle_dupe_cols, dtype, engine, converters, true_values, false_values, skipinitialspace, skiprows, nrows, na_values, keep_default_na, na_filter, verbose, skip_blank_lines, parse_dates, infer_datetime_format, keep_date_col, date_parser, dayfirst, iterator, chunksize, compression, thousands, decimal, lineterminator, quotechar, quoting, escapechar, comment, encoding, dialect, tupleize_cols, error_bad_lines, warn_bad_lines, skipfooter, doublequote, delim_whitespace, low_memory, memory_map, float_precision)\u001b[0m\n\u001b[0;32m    676\u001b[0m                     skip_blank_lines=skip_blank_lines)\n\u001b[0;32m    677\u001b[0m \u001b[1;33m\u001b[0m\u001b[0m\n\u001b[1;32m--> 678\u001b[1;33m         \u001b[1;32mreturn\u001b[0m \u001b[0m_read\u001b[0m\u001b[1;33m(\u001b[0m\u001b[0mfilepath_or_buffer\u001b[0m\u001b[1;33m,\u001b[0m \u001b[0mkwds\u001b[0m\u001b[1;33m)\u001b[0m\u001b[1;33m\u001b[0m\u001b[0m\n\u001b[0m\u001b[0;32m    679\u001b[0m \u001b[1;33m\u001b[0m\u001b[0m\n\u001b[0;32m    680\u001b[0m     \u001b[0mparser_f\u001b[0m\u001b[1;33m.\u001b[0m\u001b[0m__name__\u001b[0m \u001b[1;33m=\u001b[0m \u001b[0mname\u001b[0m\u001b[1;33m\u001b[0m\u001b[0m\n",
      "\u001b[1;32mD:\\Anaconda3\\lib\\site-packages\\pandas\\io\\parsers.py\u001b[0m in \u001b[0;36m_read\u001b[1;34m(filepath_or_buffer, kwds)\u001b[0m\n\u001b[0;32m    438\u001b[0m \u001b[1;33m\u001b[0m\u001b[0m\n\u001b[0;32m    439\u001b[0m     \u001b[1;31m# Create the parser.\u001b[0m\u001b[1;33m\u001b[0m\u001b[1;33m\u001b[0m\u001b[0m\n\u001b[1;32m--> 440\u001b[1;33m     \u001b[0mparser\u001b[0m \u001b[1;33m=\u001b[0m \u001b[0mTextFileReader\u001b[0m\u001b[1;33m(\u001b[0m\u001b[0mfilepath_or_buffer\u001b[0m\u001b[1;33m,\u001b[0m \u001b[1;33m**\u001b[0m\u001b[0mkwds\u001b[0m\u001b[1;33m)\u001b[0m\u001b[1;33m\u001b[0m\u001b[0m\n\u001b[0m\u001b[0;32m    441\u001b[0m \u001b[1;33m\u001b[0m\u001b[0m\n\u001b[0;32m    442\u001b[0m     \u001b[1;32mif\u001b[0m \u001b[0mchunksize\u001b[0m \u001b[1;32mor\u001b[0m \u001b[0miterator\u001b[0m\u001b[1;33m:\u001b[0m\u001b[1;33m\u001b[0m\u001b[0m\n",
      "\u001b[1;32mD:\\Anaconda3\\lib\\site-packages\\pandas\\io\\parsers.py\u001b[0m in \u001b[0;36m__init__\u001b[1;34m(self, f, engine, **kwds)\u001b[0m\n\u001b[0;32m    785\u001b[0m             \u001b[0mself\u001b[0m\u001b[1;33m.\u001b[0m\u001b[0moptions\u001b[0m\u001b[1;33m[\u001b[0m\u001b[1;34m'has_index_names'\u001b[0m\u001b[1;33m]\u001b[0m \u001b[1;33m=\u001b[0m \u001b[0mkwds\u001b[0m\u001b[1;33m[\u001b[0m\u001b[1;34m'has_index_names'\u001b[0m\u001b[1;33m]\u001b[0m\u001b[1;33m\u001b[0m\u001b[0m\n\u001b[0;32m    786\u001b[0m \u001b[1;33m\u001b[0m\u001b[0m\n\u001b[1;32m--> 787\u001b[1;33m         \u001b[0mself\u001b[0m\u001b[1;33m.\u001b[0m\u001b[0m_make_engine\u001b[0m\u001b[1;33m(\u001b[0m\u001b[0mself\u001b[0m\u001b[1;33m.\u001b[0m\u001b[0mengine\u001b[0m\u001b[1;33m)\u001b[0m\u001b[1;33m\u001b[0m\u001b[0m\n\u001b[0m\u001b[0;32m    788\u001b[0m \u001b[1;33m\u001b[0m\u001b[0m\n\u001b[0;32m    789\u001b[0m     \u001b[1;32mdef\u001b[0m \u001b[0mclose\u001b[0m\u001b[1;33m(\u001b[0m\u001b[0mself\u001b[0m\u001b[1;33m)\u001b[0m\u001b[1;33m:\u001b[0m\u001b[1;33m\u001b[0m\u001b[0m\n",
      "\u001b[1;32mD:\\Anaconda3\\lib\\site-packages\\pandas\\io\\parsers.py\u001b[0m in \u001b[0;36m_make_engine\u001b[1;34m(self, engine)\u001b[0m\n\u001b[0;32m   1012\u001b[0m     \u001b[1;32mdef\u001b[0m \u001b[0m_make_engine\u001b[0m\u001b[1;33m(\u001b[0m\u001b[0mself\u001b[0m\u001b[1;33m,\u001b[0m \u001b[0mengine\u001b[0m\u001b[1;33m=\u001b[0m\u001b[1;34m'c'\u001b[0m\u001b[1;33m)\u001b[0m\u001b[1;33m:\u001b[0m\u001b[1;33m\u001b[0m\u001b[0m\n\u001b[0;32m   1013\u001b[0m         \u001b[1;32mif\u001b[0m \u001b[0mengine\u001b[0m \u001b[1;33m==\u001b[0m \u001b[1;34m'c'\u001b[0m\u001b[1;33m:\u001b[0m\u001b[1;33m\u001b[0m\u001b[0m\n\u001b[1;32m-> 1014\u001b[1;33m             \u001b[0mself\u001b[0m\u001b[1;33m.\u001b[0m\u001b[0m_engine\u001b[0m \u001b[1;33m=\u001b[0m \u001b[0mCParserWrapper\u001b[0m\u001b[1;33m(\u001b[0m\u001b[0mself\u001b[0m\u001b[1;33m.\u001b[0m\u001b[0mf\u001b[0m\u001b[1;33m,\u001b[0m \u001b[1;33m**\u001b[0m\u001b[0mself\u001b[0m\u001b[1;33m.\u001b[0m\u001b[0moptions\u001b[0m\u001b[1;33m)\u001b[0m\u001b[1;33m\u001b[0m\u001b[0m\n\u001b[0m\u001b[0;32m   1015\u001b[0m         \u001b[1;32melse\u001b[0m\u001b[1;33m:\u001b[0m\u001b[1;33m\u001b[0m\u001b[0m\n\u001b[0;32m   1016\u001b[0m             \u001b[1;32mif\u001b[0m \u001b[0mengine\u001b[0m \u001b[1;33m==\u001b[0m \u001b[1;34m'python'\u001b[0m\u001b[1;33m:\u001b[0m\u001b[1;33m\u001b[0m\u001b[0m\n",
      "\u001b[1;32mD:\\Anaconda3\\lib\\site-packages\\pandas\\io\\parsers.py\u001b[0m in \u001b[0;36m__init__\u001b[1;34m(self, src, **kwds)\u001b[0m\n\u001b[0;32m   1706\u001b[0m         \u001b[0mkwds\u001b[0m\u001b[1;33m[\u001b[0m\u001b[1;34m'usecols'\u001b[0m\u001b[1;33m]\u001b[0m \u001b[1;33m=\u001b[0m \u001b[0mself\u001b[0m\u001b[1;33m.\u001b[0m\u001b[0musecols\u001b[0m\u001b[1;33m\u001b[0m\u001b[0m\n\u001b[0;32m   1707\u001b[0m \u001b[1;33m\u001b[0m\u001b[0m\n\u001b[1;32m-> 1708\u001b[1;33m         \u001b[0mself\u001b[0m\u001b[1;33m.\u001b[0m\u001b[0m_reader\u001b[0m \u001b[1;33m=\u001b[0m \u001b[0mparsers\u001b[0m\u001b[1;33m.\u001b[0m\u001b[0mTextReader\u001b[0m\u001b[1;33m(\u001b[0m\u001b[0msrc\u001b[0m\u001b[1;33m,\u001b[0m \u001b[1;33m**\u001b[0m\u001b[0mkwds\u001b[0m\u001b[1;33m)\u001b[0m\u001b[1;33m\u001b[0m\u001b[0m\n\u001b[0m\u001b[0;32m   1709\u001b[0m \u001b[1;33m\u001b[0m\u001b[0m\n\u001b[0;32m   1710\u001b[0m         \u001b[0mpassed_names\u001b[0m \u001b[1;33m=\u001b[0m \u001b[0mself\u001b[0m\u001b[1;33m.\u001b[0m\u001b[0mnames\u001b[0m \u001b[1;32mis\u001b[0m \u001b[1;32mNone\u001b[0m\u001b[1;33m\u001b[0m\u001b[0m\n",
      "\u001b[1;32mpandas\\_libs\\parsers.pyx\u001b[0m in \u001b[0;36mpandas._libs.parsers.TextReader.__cinit__\u001b[1;34m()\u001b[0m\n",
      "\u001b[1;32mpandas\\_libs\\parsers.pyx\u001b[0m in \u001b[0;36mpandas._libs.parsers.TextReader._setup_parser_source\u001b[1;34m()\u001b[0m\n",
      "\u001b[1;31mFileNotFoundError\u001b[0m: File b'../../data/Term2/capstone/arvato_data/Udacity_MAILOUT_052018_TRAIN.csv' does not exist"
     ]
    }
   ],
   "source": [
    "mailout_train = pd.read_csv('../../data/Term2/capstone/arvato_data/Udacity_MAILOUT_052018_TRAIN.csv', sep=';')"
   ]
  },
  {
   "cell_type": "code",
   "execution_count": null,
   "metadata": {},
   "outputs": [],
   "source": []
  },
  {
   "cell_type": "markdown",
   "metadata": {},
   "source": [
    "## Part 3: Kaggle Competition\n",
    "\n",
    "Now that you've created a model to predict which individuals are most likely to respond to a mailout campaign, it's time to test that model in competition through Kaggle. If you click on the link [here](http://www.kaggle.com/t/21e6d45d4c574c7fa2d868f0e8c83140), you'll be taken to the competition page where, if you have a Kaggle account, you can enter. If you're one of the top performers, you may have the chance to be contacted by a hiring manager from Arvato or Bertelsmann for an interview!\n",
    "\n",
    "Your entry to the competition should be a CSV file with two columns. The first column should be a copy of \"LNR\", which acts as an ID number for each individual in the \"TEST\" partition. The second column, \"RESPONSE\", should be some measure of how likely each individual became a customer – this might not be a straightforward probability. As you should have found in Part 2, there is a large output class imbalance, where most individuals did not respond to the mailout. Thus, predicting individual classes and using accuracy does not seem to be an appropriate performance evaluation method. Instead, the competition will be using AUC to evaluate performance. The exact values of the \"RESPONSE\" column do not matter as much: only that the higher values try to capture as many of the actual customers as possible, early in the ROC curve sweep."
   ]
  },
  {
   "cell_type": "code",
   "execution_count": null,
   "metadata": {
    "ExecuteTime": {
     "end_time": "2019-12-08T20:03:26.768122Z",
     "start_time": "2019-12-08T19:57:48.558Z"
    }
   },
   "outputs": [],
   "source": [
    "mailout_test = pd.read_csv('../../data/Term2/capstone/arvato_data/Udacity_MAILOUT_052018_TEST.csv', sep=';')"
   ]
  },
  {
   "cell_type": "code",
   "execution_count": null,
   "metadata": {},
   "outputs": [],
   "source": []
  }
 ],
 "metadata": {
  "kernelspec": {
   "display_name": "Python 3",
   "language": "python",
   "name": "python3"
  },
  "language_info": {
   "codemirror_mode": {
    "name": "ipython",
    "version": 3
   },
   "file_extension": ".py",
   "mimetype": "text/x-python",
   "name": "python",
   "nbconvert_exporter": "python",
   "pygments_lexer": "ipython3",
   "version": "3.6.5"
  },
  "toc": {
   "base_numbering": 1,
   "nav_menu": {},
   "number_sections": true,
   "sideBar": true,
   "skip_h1_title": false,
   "title_cell": "Table of Contents",
   "title_sidebar": "Contents",
   "toc_cell": false,
   "toc_position": {},
   "toc_section_display": true,
   "toc_window_display": false
  },
  "varInspector": {
   "cols": {
    "lenName": 16,
    "lenType": 16,
    "lenVar": 40
   },
   "kernels_config": {
    "python": {
     "delete_cmd_postfix": "",
     "delete_cmd_prefix": "del ",
     "library": "var_list.py",
     "varRefreshCmd": "print(var_dic_list())"
    },
    "r": {
     "delete_cmd_postfix": ") ",
     "delete_cmd_prefix": "rm(",
     "library": "var_list.r",
     "varRefreshCmd": "cat(var_dic_list()) "
    }
   },
   "types_to_exclude": [
    "module",
    "function",
    "builtin_function_or_method",
    "instance",
    "_Feature"
   ],
   "window_display": false
  }
 },
 "nbformat": 4,
 "nbformat_minor": 2
}
