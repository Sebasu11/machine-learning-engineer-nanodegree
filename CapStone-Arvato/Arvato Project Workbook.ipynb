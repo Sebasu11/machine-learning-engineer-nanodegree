{
 "cells": [
  {
   "cell_type": "markdown",
   "metadata": {},
   "source": [
    "# Capstone Project: Create a Customer Segmentation Report for Arvato Financial Services\n",
    "\n",
    "In this project, you will analyze demographics data for customers of a mail-order sales company in Germany, comparing it against demographics information for the general population. You'll use unsupervised learning techniques to perform customer segmentation, identifying the parts of the population that best describe the core customer base of the company. Then, you'll apply what you've learned on a third dataset with demographics information for targets of a marketing campaign for the company, and use a model to predict which individuals are most likely to convert into becoming customers for the company. The data that you will use has been provided by our partners at Bertelsmann Arvato Analytics, and represents a real-life data science task.\n",
    "\n",
    "If you completed the first term of this program, you will be familiar with the first part of this project, from the unsupervised learning project. The versions of those two datasets used in this project will include many more features and has not been pre-cleaned. You are also free to choose whatever approach you'd like to analyzing the data rather than follow pre-determined steps. In your work on this project, make sure that you carefully document your steps and decisions, since your main deliverable for this project will be a blog post reporting your findings."
   ]
  },
  {
   "cell_type": "code",
   "execution_count": 1,
   "metadata": {
    "ExecuteTime": {
     "end_time": "2019-12-09T03:52:09.854658Z",
     "start_time": "2019-12-09T03:51:53.955430Z"
    }
   },
   "outputs": [],
   "source": [
    "# import libraries here; add more as necessary\n",
    "import numpy as np\n",
    "import pandas as pd\n",
    "import matplotlib.pyplot as plt\n",
    "import seaborn as sns\n",
    "import warnings\n",
    "warnings.filterwarnings('ignore')\n",
    "# magic word for producing visualizations in notebook\n",
    "%matplotlib inline"
   ]
  },
  {
   "cell_type": "markdown",
   "metadata": {},
   "source": [
    "## Part 0: Get to Know the Data\n",
    "\n",
    "There are four data files associated with this project:\n",
    "\n",
    "- `Udacity_AZDIAS_052018.csv`: Demographics data for the general population of Germany; 891 211 persons (rows) x 366 features (columns).\n",
    "- `Udacity_CUSTOMERS_052018.csv`: Demographics data for customers of a mail-order company; 191 652 persons (rows) x 369 features (columns).\n",
    "- `Udacity_MAILOUT_052018_TRAIN.csv`: Demographics data for individuals who were targets of a marketing campaign; 42 982 persons (rows) x 367 (columns).\n",
    "- `Udacity_MAILOUT_052018_TEST.csv`: Demographics data for individuals who were targets of a marketing campaign; 42 833 persons (rows) x 366 (columns).\n",
    "\n",
    "Each row of the demographics files represents a single person, but also includes information outside of individuals, including information about their household, building, and neighborhood. Use the information from the first two files to figure out how customers (\"CUSTOMERS\") are similar to or differ from the general population at large (\"AZDIAS\"), then use your analysis to make predictions on the other two files (\"MAILOUT\"), predicting which recipients are most likely to become a customer for the mail-order company.\n",
    "\n",
    "The \"CUSTOMERS\" file contains three extra columns ('CUSTOMER_GROUP', 'ONLINE_PURCHASE', and 'PRODUCT_GROUP'), which provide broad information about the customers depicted in the file. The original \"MAILOUT\" file included one additional column, \"RESPONSE\", which indicated whether or not each recipient became a customer of the company. For the \"TRAIN\" subset, this column has been retained, but in the \"TEST\" subset it has been removed; it is against that withheld column that your final predictions will be assessed in the Kaggle competition.\n",
    "\n",
    "Otherwise, all of the remaining columns are the same between the three data files. For more information about the columns depicted in the files, you can refer to two Excel spreadsheets provided in the workspace. [One of them](./DIAS Information Levels - Attributes 2017.xlsx) is a top-level list of attributes and descriptions, organized by informational category. [The other](./DIAS Attributes - Values 2017.xlsx) is a detailed mapping of data values for each feature in alphabetical order.\n",
    "\n",
    "In the below cell, we've provided some initial code to load in the first two datasets. Note for all of the `.csv` data files in this project that they're semicolon (`;`) delimited, so an additional argument in the [`read_csv()`](https://pandas.pydata.org/pandas-docs/stable/generated/pandas.read_csv.html) call has been included to read in the data properly. Also, considering the size of the datasets, it may take some time for them to load completely.\n",
    "\n",
    "You'll notice when the data is loaded in that a warning message will immediately pop up. Before you really start digging into the modeling and analysis, you're going to need to perform some cleaning. Take some time to browse the structure of the data and look over the informational spreadsheets to understand the data values. Make some decisions on which features to keep, which features to drop, and if any revisions need to be made on data formats. It'll be a good idea to create a function with pre-processing steps, since you'll need to clean all of the datasets before you work with them."
   ]
  },
  {
   "cell_type": "code",
   "execution_count": 2,
   "metadata": {
    "ExecuteTime": {
     "end_time": "2019-12-09T03:52:50.694130Z",
     "start_time": "2019-12-09T03:52:09.861633Z"
    }
   },
   "outputs": [],
   "source": [
    "# load in the data\n",
    "azdias = pd.read_csv('data/Udacity_AZDIAS_052018.csv', sep=';')"
   ]
  },
  {
   "cell_type": "code",
   "execution_count": 3,
   "metadata": {
    "ExecuteTime": {
     "end_time": "2019-12-09T03:52:51.027925Z",
     "start_time": "2019-12-09T03:52:51.006933Z"
    }
   },
   "outputs": [
    {
     "name": "stdout",
     "output_type": "stream",
     "text": [
      "<class 'pandas.core.frame.DataFrame'>\n",
      "RangeIndex: 891221 entries, 0 to 891220\n",
      "Columns: 366 entries, LNR to ALTERSKATEGORIE_GROB\n",
      "dtypes: float64(267), int64(93), object(6)\n",
      "memory usage: 2.4+ GB\n"
     ]
    }
   ],
   "source": [
    "azdias.info()"
   ]
  },
  {
   "cell_type": "code",
   "execution_count": 4,
   "metadata": {
    "ExecuteTime": {
     "end_time": "2019-12-09T03:52:51.286633Z",
     "start_time": "2019-12-09T03:52:51.242497Z"
    }
   },
   "outputs": [
    {
     "data": {
      "text/html": [
       "<div>\n",
       "<style scoped>\n",
       "    .dataframe tbody tr th:only-of-type {\n",
       "        vertical-align: middle;\n",
       "    }\n",
       "\n",
       "    .dataframe tbody tr th {\n",
       "        vertical-align: top;\n",
       "    }\n",
       "\n",
       "    .dataframe thead th {\n",
       "        text-align: right;\n",
       "    }\n",
       "</style>\n",
       "<table border=\"1\" class=\"dataframe\">\n",
       "  <thead>\n",
       "    <tr style=\"text-align: right;\">\n",
       "      <th></th>\n",
       "      <th>LNR</th>\n",
       "      <th>AGER_TYP</th>\n",
       "      <th>AKT_DAT_KL</th>\n",
       "      <th>ALTER_HH</th>\n",
       "      <th>ALTER_KIND1</th>\n",
       "      <th>ALTER_KIND2</th>\n",
       "      <th>ALTER_KIND3</th>\n",
       "      <th>ALTER_KIND4</th>\n",
       "      <th>ALTERSKATEGORIE_FEIN</th>\n",
       "      <th>ANZ_HAUSHALTE_AKTIV</th>\n",
       "      <th>...</th>\n",
       "      <th>VHN</th>\n",
       "      <th>VK_DHT4A</th>\n",
       "      <th>VK_DISTANZ</th>\n",
       "      <th>VK_ZG11</th>\n",
       "      <th>W_KEIT_KIND_HH</th>\n",
       "      <th>WOHNDAUER_2008</th>\n",
       "      <th>WOHNLAGE</th>\n",
       "      <th>ZABEOTYP</th>\n",
       "      <th>ANREDE_KZ</th>\n",
       "      <th>ALTERSKATEGORIE_GROB</th>\n",
       "    </tr>\n",
       "  </thead>\n",
       "  <tbody>\n",
       "    <tr>\n",
       "      <th>0</th>\n",
       "      <td>910215</td>\n",
       "      <td>-1</td>\n",
       "      <td>NaN</td>\n",
       "      <td>NaN</td>\n",
       "      <td>NaN</td>\n",
       "      <td>NaN</td>\n",
       "      <td>NaN</td>\n",
       "      <td>NaN</td>\n",
       "      <td>NaN</td>\n",
       "      <td>NaN</td>\n",
       "      <td>...</td>\n",
       "      <td>NaN</td>\n",
       "      <td>NaN</td>\n",
       "      <td>NaN</td>\n",
       "      <td>NaN</td>\n",
       "      <td>NaN</td>\n",
       "      <td>NaN</td>\n",
       "      <td>NaN</td>\n",
       "      <td>3</td>\n",
       "      <td>1</td>\n",
       "      <td>2</td>\n",
       "    </tr>\n",
       "    <tr>\n",
       "      <th>1</th>\n",
       "      <td>910220</td>\n",
       "      <td>-1</td>\n",
       "      <td>9.0</td>\n",
       "      <td>0.0</td>\n",
       "      <td>NaN</td>\n",
       "      <td>NaN</td>\n",
       "      <td>NaN</td>\n",
       "      <td>NaN</td>\n",
       "      <td>21.0</td>\n",
       "      <td>11.0</td>\n",
       "      <td>...</td>\n",
       "      <td>4.0</td>\n",
       "      <td>8.0</td>\n",
       "      <td>11.0</td>\n",
       "      <td>10.0</td>\n",
       "      <td>3.0</td>\n",
       "      <td>9.0</td>\n",
       "      <td>4.0</td>\n",
       "      <td>5</td>\n",
       "      <td>2</td>\n",
       "      <td>1</td>\n",
       "    </tr>\n",
       "    <tr>\n",
       "      <th>2</th>\n",
       "      <td>910225</td>\n",
       "      <td>-1</td>\n",
       "      <td>9.0</td>\n",
       "      <td>17.0</td>\n",
       "      <td>NaN</td>\n",
       "      <td>NaN</td>\n",
       "      <td>NaN</td>\n",
       "      <td>NaN</td>\n",
       "      <td>17.0</td>\n",
       "      <td>10.0</td>\n",
       "      <td>...</td>\n",
       "      <td>2.0</td>\n",
       "      <td>9.0</td>\n",
       "      <td>9.0</td>\n",
       "      <td>6.0</td>\n",
       "      <td>3.0</td>\n",
       "      <td>9.0</td>\n",
       "      <td>2.0</td>\n",
       "      <td>5</td>\n",
       "      <td>2</td>\n",
       "      <td>3</td>\n",
       "    </tr>\n",
       "    <tr>\n",
       "      <th>3</th>\n",
       "      <td>910226</td>\n",
       "      <td>2</td>\n",
       "      <td>1.0</td>\n",
       "      <td>13.0</td>\n",
       "      <td>NaN</td>\n",
       "      <td>NaN</td>\n",
       "      <td>NaN</td>\n",
       "      <td>NaN</td>\n",
       "      <td>13.0</td>\n",
       "      <td>1.0</td>\n",
       "      <td>...</td>\n",
       "      <td>0.0</td>\n",
       "      <td>7.0</td>\n",
       "      <td>10.0</td>\n",
       "      <td>11.0</td>\n",
       "      <td>NaN</td>\n",
       "      <td>9.0</td>\n",
       "      <td>7.0</td>\n",
       "      <td>3</td>\n",
       "      <td>2</td>\n",
       "      <td>4</td>\n",
       "    </tr>\n",
       "    <tr>\n",
       "      <th>4</th>\n",
       "      <td>910241</td>\n",
       "      <td>-1</td>\n",
       "      <td>1.0</td>\n",
       "      <td>20.0</td>\n",
       "      <td>NaN</td>\n",
       "      <td>NaN</td>\n",
       "      <td>NaN</td>\n",
       "      <td>NaN</td>\n",
       "      <td>14.0</td>\n",
       "      <td>3.0</td>\n",
       "      <td>...</td>\n",
       "      <td>2.0</td>\n",
       "      <td>3.0</td>\n",
       "      <td>5.0</td>\n",
       "      <td>4.0</td>\n",
       "      <td>2.0</td>\n",
       "      <td>9.0</td>\n",
       "      <td>3.0</td>\n",
       "      <td>4</td>\n",
       "      <td>1</td>\n",
       "      <td>3</td>\n",
       "    </tr>\n",
       "  </tbody>\n",
       "</table>\n",
       "<p>5 rows × 366 columns</p>\n",
       "</div>"
      ],
      "text/plain": [
       "      LNR  AGER_TYP  AKT_DAT_KL  ALTER_HH  ALTER_KIND1  ALTER_KIND2  \\\n",
       "0  910215        -1         NaN       NaN          NaN          NaN   \n",
       "1  910220        -1         9.0       0.0          NaN          NaN   \n",
       "2  910225        -1         9.0      17.0          NaN          NaN   \n",
       "3  910226         2         1.0      13.0          NaN          NaN   \n",
       "4  910241        -1         1.0      20.0          NaN          NaN   \n",
       "\n",
       "   ALTER_KIND3  ALTER_KIND4  ALTERSKATEGORIE_FEIN  ANZ_HAUSHALTE_AKTIV  \\\n",
       "0          NaN          NaN                   NaN                  NaN   \n",
       "1          NaN          NaN                  21.0                 11.0   \n",
       "2          NaN          NaN                  17.0                 10.0   \n",
       "3          NaN          NaN                  13.0                  1.0   \n",
       "4          NaN          NaN                  14.0                  3.0   \n",
       "\n",
       "          ...           VHN  VK_DHT4A  VK_DISTANZ  VK_ZG11  W_KEIT_KIND_HH  \\\n",
       "0         ...           NaN       NaN         NaN      NaN             NaN   \n",
       "1         ...           4.0       8.0        11.0     10.0             3.0   \n",
       "2         ...           2.0       9.0         9.0      6.0             3.0   \n",
       "3         ...           0.0       7.0        10.0     11.0             NaN   \n",
       "4         ...           2.0       3.0         5.0      4.0             2.0   \n",
       "\n",
       "   WOHNDAUER_2008  WOHNLAGE ZABEOTYP ANREDE_KZ ALTERSKATEGORIE_GROB  \n",
       "0             NaN       NaN        3         1                    2  \n",
       "1             9.0       4.0        5         2                    1  \n",
       "2             9.0       2.0        5         2                    3  \n",
       "3             9.0       7.0        3         2                    4  \n",
       "4             9.0       3.0        4         1                    3  \n",
       "\n",
       "[5 rows x 366 columns]"
      ]
     },
     "execution_count": 4,
     "metadata": {},
     "output_type": "execute_result"
    }
   ],
   "source": [
    "azdias.head()"
   ]
  },
  {
   "cell_type": "code",
   "execution_count": 5,
   "metadata": {
    "ExecuteTime": {
     "end_time": "2019-12-09T03:52:51.497167Z",
     "start_time": "2019-12-09T03:52:51.493154Z"
    }
   },
   "outputs": [
    {
     "data": {
      "text/plain": [
       "(891221, 366)"
      ]
     },
     "execution_count": 5,
     "metadata": {},
     "output_type": "execute_result"
    }
   ],
   "source": [
    "azdias.shape"
   ]
  },
  {
   "cell_type": "markdown",
   "metadata": {},
   "source": [
    "mmmm it seems there are missing values , lest check for them "
   ]
  },
  {
   "cell_type": "code",
   "execution_count": 6,
   "metadata": {
    "ExecuteTime": {
     "end_time": "2019-12-09T03:52:51.769096Z",
     "start_time": "2019-12-09T03:52:51.712738Z"
    }
   },
   "outputs": [],
   "source": [
    "from utils import missing_values_table"
   ]
  },
  {
   "cell_type": "code",
   "execution_count": 7,
   "metadata": {
    "ExecuteTime": {
     "end_time": "2019-12-09T03:53:03.827325Z",
     "start_time": "2019-12-09T03:52:51.988627Z"
    }
   },
   "outputs": [
    {
     "name": "stdout",
     "output_type": "stream",
     "text": [
      "DataFrame have 366 columns.\n",
      "273 at least miss one value.\n"
     ]
    }
   ],
   "source": [
    "azdias_missing=missing_values_table(azdias)"
   ]
  },
  {
   "cell_type": "code",
   "execution_count": 8,
   "metadata": {
    "ExecuteTime": {
     "end_time": "2019-12-09T03:53:04.099005Z",
     "start_time": "2019-12-09T03:53:04.088978Z"
    }
   },
   "outputs": [
    {
     "data": {
      "text/html": [
       "<div>\n",
       "<style scoped>\n",
       "    .dataframe tbody tr th:only-of-type {\n",
       "        vertical-align: middle;\n",
       "    }\n",
       "\n",
       "    .dataframe tbody tr th {\n",
       "        vertical-align: top;\n",
       "    }\n",
       "\n",
       "    .dataframe thead th {\n",
       "        text-align: right;\n",
       "    }\n",
       "</style>\n",
       "<table border=\"1\" class=\"dataframe\">\n",
       "  <thead>\n",
       "    <tr style=\"text-align: right;\">\n",
       "      <th></th>\n",
       "      <th>Missing</th>\n",
       "      <th>% of Total Values</th>\n",
       "    </tr>\n",
       "  </thead>\n",
       "  <tbody>\n",
       "    <tr>\n",
       "      <th>ALTER_KIND4</th>\n",
       "      <td>890016</td>\n",
       "      <td>99.9</td>\n",
       "    </tr>\n",
       "    <tr>\n",
       "      <th>ALTER_KIND3</th>\n",
       "      <td>885051</td>\n",
       "      <td>99.3</td>\n",
       "    </tr>\n",
       "    <tr>\n",
       "      <th>ALTER_KIND2</th>\n",
       "      <td>861722</td>\n",
       "      <td>96.7</td>\n",
       "    </tr>\n",
       "    <tr>\n",
       "      <th>ALTER_KIND1</th>\n",
       "      <td>810163</td>\n",
       "      <td>90.9</td>\n",
       "    </tr>\n",
       "    <tr>\n",
       "      <th>EXTSEL992</th>\n",
       "      <td>654153</td>\n",
       "      <td>73.4</td>\n",
       "    </tr>\n",
       "    <tr>\n",
       "      <th>KK_KUNDENTYP</th>\n",
       "      <td>584612</td>\n",
       "      <td>65.6</td>\n",
       "    </tr>\n",
       "    <tr>\n",
       "      <th>ALTERSKATEGORIE_FEIN</th>\n",
       "      <td>262947</td>\n",
       "      <td>29.5</td>\n",
       "    </tr>\n",
       "    <tr>\n",
       "      <th>D19_SOZIALES</th>\n",
       "      <td>257113</td>\n",
       "      <td>28.8</td>\n",
       "    </tr>\n",
       "    <tr>\n",
       "      <th>D19_LOTTO</th>\n",
       "      <td>257113</td>\n",
       "      <td>28.8</td>\n",
       "    </tr>\n",
       "    <tr>\n",
       "      <th>D19_BANKEN_ONLINE_QUOTE_12</th>\n",
       "      <td>257113</td>\n",
       "      <td>28.8</td>\n",
       "    </tr>\n",
       "  </tbody>\n",
       "</table>\n",
       "</div>"
      ],
      "text/plain": [
       "                            Missing   % of Total Values\n",
       "ALTER_KIND4                   890016               99.9\n",
       "ALTER_KIND3                   885051               99.3\n",
       "ALTER_KIND2                   861722               96.7\n",
       "ALTER_KIND1                   810163               90.9\n",
       "EXTSEL992                     654153               73.4\n",
       "KK_KUNDENTYP                  584612               65.6\n",
       "ALTERSKATEGORIE_FEIN          262947               29.5\n",
       "D19_SOZIALES                  257113               28.8\n",
       "D19_LOTTO                     257113               28.8\n",
       "D19_BANKEN_ONLINE_QUOTE_12    257113               28.8"
      ]
     },
     "execution_count": 8,
     "metadata": {},
     "output_type": "execute_result"
    }
   ],
   "source": [
    "azdias_missing.head(10)"
   ]
  },
  {
   "cell_type": "code",
   "execution_count": 9,
   "metadata": {
    "ExecuteTime": {
     "end_time": "2019-12-09T03:53:05.680902Z",
     "start_time": "2019-12-09T03:53:04.332628Z"
    }
   },
   "outputs": [
    {
     "data": {
      "text/plain": [
       "<matplotlib.axes._subplots.AxesSubplot at 0x1ef1bea45c0>"
      ]
     },
     "execution_count": 9,
     "metadata": {},
     "output_type": "execute_result"
    },
    {
     "data": {
      "image/png": "[encoded data removed]",
      "text/plain": [
       "<Figure size 1224x360 with 1 Axes>"
      ]
     },
     "metadata": {},
     "output_type": "display_data"
    }
   ],
   "source": [
    "azdias_missing['% of Total Values'].head(30).plot(kind ='bar', figsize=(17,5))"
   ]
  },
  {
   "cell_type": "markdown",
   "metadata": {},
   "source": [
    "Using the *DIAS Attributes-Values 2017_modify.xlsx* file we can use it to complete missing data and replace it with proper values used in the file. "
   ]
  },
  {
   "cell_type": "code",
   "execution_count": 10,
   "metadata": {
    "ExecuteTime": {
     "end_time": "2019-12-09T03:53:05.951574Z",
     "start_time": "2019-12-09T03:53:05.893456Z"
    }
   },
   "outputs": [],
   "source": [
    "dias = pd.read_csv('data/dias_unknown.csv',sep=';')"
   ]
  },
  {
   "cell_type": "code",
   "execution_count": 11,
   "metadata": {
    "ExecuteTime": {
     "end_time": "2019-12-09T03:53:06.187178Z",
     "start_time": "2019-12-09T03:53:06.174135Z"
    }
   },
   "outputs": [
    {
     "data": {
      "text/html": [
       "<div>\n",
       "<style scoped>\n",
       "    .dataframe tbody tr th:only-of-type {\n",
       "        vertical-align: middle;\n",
       "    }\n",
       "\n",
       "    .dataframe tbody tr th {\n",
       "        vertical-align: top;\n",
       "    }\n",
       "\n",
       "    .dataframe thead th {\n",
       "        text-align: right;\n",
       "    }\n",
       "</style>\n",
       "<table border=\"1\" class=\"dataframe\">\n",
       "  <thead>\n",
       "    <tr style=\"text-align: right;\">\n",
       "      <th></th>\n",
       "      <th>Attribute</th>\n",
       "      <th>Meaning</th>\n",
       "      <th>Value</th>\n",
       "      <th>Unknown_0</th>\n",
       "      <th>Unknown_1</th>\n",
       "    </tr>\n",
       "  </thead>\n",
       "  <tbody>\n",
       "    <tr>\n",
       "      <th>0</th>\n",
       "      <td>AGER_TYP</td>\n",
       "      <td>unknown</td>\n",
       "      <td>-1</td>\n",
       "      <td>NaN</td>\n",
       "      <td>NaN</td>\n",
       "    </tr>\n",
       "    <tr>\n",
       "      <th>1</th>\n",
       "      <td>ALTERSKATEGORIE_GROB</td>\n",
       "      <td>unknown</td>\n",
       "      <td>-1, 0</td>\n",
       "      <td>-1.0</td>\n",
       "      <td>0.0</td>\n",
       "    </tr>\n",
       "    <tr>\n",
       "      <th>2</th>\n",
       "      <td>ALTER_HH</td>\n",
       "      <td>unknown / no main age detectable</td>\n",
       "      <td>0</td>\n",
       "      <td>NaN</td>\n",
       "      <td>NaN</td>\n",
       "    </tr>\n",
       "    <tr>\n",
       "      <th>3</th>\n",
       "      <td>ANREDE_KZ</td>\n",
       "      <td>unknown</td>\n",
       "      <td>-1, 0</td>\n",
       "      <td>-1.0</td>\n",
       "      <td>0.0</td>\n",
       "    </tr>\n",
       "    <tr>\n",
       "      <th>4</th>\n",
       "      <td>BALLRAUM</td>\n",
       "      <td>unknown</td>\n",
       "      <td>-1</td>\n",
       "      <td>NaN</td>\n",
       "      <td>NaN</td>\n",
       "    </tr>\n",
       "    <tr>\n",
       "      <th>5</th>\n",
       "      <td>BIP_FLAG</td>\n",
       "      <td>unknown</td>\n",
       "      <td>-1</td>\n",
       "      <td>NaN</td>\n",
       "      <td>NaN</td>\n",
       "    </tr>\n",
       "    <tr>\n",
       "      <th>6</th>\n",
       "      <td>CAMEO_DEUG_2015</td>\n",
       "      <td>unknown</td>\n",
       "      <td>-1</td>\n",
       "      <td>NaN</td>\n",
       "      <td>NaN</td>\n",
       "    </tr>\n",
       "    <tr>\n",
       "      <th>7</th>\n",
       "      <td>CAMEO_DEUINTL_2015</td>\n",
       "      <td>unknown</td>\n",
       "      <td>-1</td>\n",
       "      <td>NaN</td>\n",
       "      <td>NaN</td>\n",
       "    </tr>\n",
       "    <tr>\n",
       "      <th>8</th>\n",
       "      <td>CJT_GESAMTTYP</td>\n",
       "      <td>unknown</td>\n",
       "      <td>0</td>\n",
       "      <td>NaN</td>\n",
       "      <td>NaN</td>\n",
       "    </tr>\n",
       "    <tr>\n",
       "      <th>9</th>\n",
       "      <td>D19_BANKEN_ANZ_12</td>\n",
       "      <td>no transactions known</td>\n",
       "      <td>0</td>\n",
       "      <td>NaN</td>\n",
       "      <td>NaN</td>\n",
       "    </tr>\n",
       "  </tbody>\n",
       "</table>\n",
       "</div>"
      ],
      "text/plain": [
       "              Attribute                           Meaning  Value  Unknown_0  \\\n",
       "0              AGER_TYP                           unknown     -1        NaN   \n",
       "1  ALTERSKATEGORIE_GROB                           unknown  -1, 0       -1.0   \n",
       "2              ALTER_HH  unknown / no main age detectable      0        NaN   \n",
       "3             ANREDE_KZ                           unknown  -1, 0       -1.0   \n",
       "4              BALLRAUM                           unknown     -1        NaN   \n",
       "5              BIP_FLAG                           unknown     -1        NaN   \n",
       "6       CAMEO_DEUG_2015                           unknown     -1        NaN   \n",
       "7    CAMEO_DEUINTL_2015                           unknown     -1        NaN   \n",
       "8         CJT_GESAMTTYP                           unknown      0        NaN   \n",
       "9     D19_BANKEN_ANZ_12             no transactions known      0        NaN   \n",
       "\n",
       "   Unknown_1  \n",
       "0        NaN  \n",
       "1        0.0  \n",
       "2        NaN  \n",
       "3        0.0  \n",
       "4        NaN  \n",
       "5        NaN  \n",
       "6        NaN  \n",
       "7        NaN  \n",
       "8        NaN  \n",
       "9        NaN  "
      ]
     },
     "execution_count": 11,
     "metadata": {},
     "output_type": "execute_result"
    }
   ],
   "source": [
    "dias.head(10)"
   ]
  },
  {
   "cell_type": "code",
   "execution_count": 12,
   "metadata": {
    "ExecuteTime": {
     "end_time": "2019-12-09T03:53:06.418783Z",
     "start_time": "2019-12-09T03:53:06.412766Z"
    }
   },
   "outputs": [],
   "source": [
    "values_to_replace=dias.set_index('Attribute').to_dict()['Value']"
   ]
  },
  {
   "cell_type": "markdown",
   "metadata": {},
   "source": [
    "This function will replace those value according to the DIAS file, first It will evaluated if a feature has 2 posible options when the value is unknown and will unified them,  then it will replace missing values with **NaN**"
   ]
  },
  {
   "cell_type": "code",
   "execution_count": 13,
   "metadata": {
    "ExecuteTime": {
     "end_time": "2019-12-09T03:53:06.640372Z",
     "start_time": "2019-12-09T03:53:06.636363Z"
    }
   },
   "outputs": [],
   "source": [
    "from os import path"
   ]
  },
  {
   "cell_type": "markdown",
   "metadata": {},
   "source": [
    "This takes some time, it will be usefull to save the dataset"
   ]
  },
  {
   "cell_type": "code",
   "execution_count": 14,
   "metadata": {
    "ExecuteTime": {
     "end_time": "2019-12-09T03:53:06.865974Z",
     "start_time": "2019-12-09T03:53:06.859956Z"
    },
    "scrolled": true
   },
   "outputs": [
    {
     "name": "stdout",
     "output_type": "stream",
     "text": [
      "File Exist!, Dont Worry\n",
      "Wall time: 1 ms\n"
     ]
    }
   ],
   "source": [
    "%%time\n",
    "if path.exists(\"data/azdias_with_nan.csv\")==False:\n",
    "    for col in azdias.columns:\n",
    "        if col in dias.Attribute.unique():\n",
    "            if(len(values_to_replace[col].split(','))>1):\n",
    "                azdias.loc[azdias[col]==int(values_to_replace[col].split(',')[1]), col] = int(values_to_replace[col].split(',')[0])\n",
    "                azdias.loc[azdias[col]==int(values_to_replace[col].split(',')[0]), col] = np.nan\n",
    "            else:\n",
    "                azdias.loc[azdias[col]==int(values_to_replace[col]), col] = np.nan  \n",
    "    azdias.to_csv('data/azdias_with_nan.csv',index=False,sep=';')\n",
    "else:\n",
    "    print('File Exist!, Dont Worry, opening : azdias_with_nan')\n",
    "    azdias=pd.read_csv('data/azdias_with_nan.csv',sep=';')"
   ]
  },
  {
   "cell_type": "code",
   "execution_count": 69,
   "metadata": {
    "ExecuteTime": {
     "end_time": "2019-12-09T04:05:16.934644Z",
     "start_time": "2019-12-09T04:05:16.907562Z"
    }
   },
   "outputs": [
    {
     "data": {
      "text/html": [
       "<div>\n",
       "<style scoped>\n",
       "    .dataframe tbody tr th:only-of-type {\n",
       "        vertical-align: middle;\n",
       "    }\n",
       "\n",
       "    .dataframe tbody tr th {\n",
       "        vertical-align: top;\n",
       "    }\n",
       "\n",
       "    .dataframe thead th {\n",
       "        text-align: right;\n",
       "    }\n",
       "</style>\n",
       "<table border=\"1\" class=\"dataframe\">\n",
       "  <thead>\n",
       "    <tr style=\"text-align: right;\">\n",
       "      <th></th>\n",
       "      <th>LNR</th>\n",
       "      <th>AGER_TYP</th>\n",
       "      <th>AKT_DAT_KL</th>\n",
       "      <th>ALTER_HH</th>\n",
       "      <th>ALTER_KIND1</th>\n",
       "      <th>ALTER_KIND2</th>\n",
       "      <th>ALTER_KIND3</th>\n",
       "      <th>ALTER_KIND4</th>\n",
       "      <th>ALTERSKATEGORIE_FEIN</th>\n",
       "      <th>ANZ_HAUSHALTE_AKTIV</th>\n",
       "      <th>...</th>\n",
       "      <th>VHN</th>\n",
       "      <th>VK_DHT4A</th>\n",
       "      <th>VK_DISTANZ</th>\n",
       "      <th>VK_ZG11</th>\n",
       "      <th>W_KEIT_KIND_HH</th>\n",
       "      <th>WOHNDAUER_2008</th>\n",
       "      <th>WOHNLAGE</th>\n",
       "      <th>ZABEOTYP</th>\n",
       "      <th>ANREDE_KZ</th>\n",
       "      <th>ALTERSKATEGORIE_GROB</th>\n",
       "    </tr>\n",
       "  </thead>\n",
       "  <tbody>\n",
       "    <tr>\n",
       "      <th>0</th>\n",
       "      <td>910215</td>\n",
       "      <td>NaN</td>\n",
       "      <td>NaN</td>\n",
       "      <td>NaN</td>\n",
       "      <td>NaN</td>\n",
       "      <td>NaN</td>\n",
       "      <td>NaN</td>\n",
       "      <td>NaN</td>\n",
       "      <td>NaN</td>\n",
       "      <td>NaN</td>\n",
       "      <td>...</td>\n",
       "      <td>NaN</td>\n",
       "      <td>NaN</td>\n",
       "      <td>NaN</td>\n",
       "      <td>NaN</td>\n",
       "      <td>NaN</td>\n",
       "      <td>NaN</td>\n",
       "      <td>NaN</td>\n",
       "      <td>3.0</td>\n",
       "      <td>1.0</td>\n",
       "      <td>2.0</td>\n",
       "    </tr>\n",
       "    <tr>\n",
       "      <th>1</th>\n",
       "      <td>910220</td>\n",
       "      <td>NaN</td>\n",
       "      <td>9.0</td>\n",
       "      <td>NaN</td>\n",
       "      <td>NaN</td>\n",
       "      <td>NaN</td>\n",
       "      <td>NaN</td>\n",
       "      <td>NaN</td>\n",
       "      <td>21.0</td>\n",
       "      <td>11.0</td>\n",
       "      <td>...</td>\n",
       "      <td>4.0</td>\n",
       "      <td>8.0</td>\n",
       "      <td>11.0</td>\n",
       "      <td>10.0</td>\n",
       "      <td>3.0</td>\n",
       "      <td>9.0</td>\n",
       "      <td>4.0</td>\n",
       "      <td>5.0</td>\n",
       "      <td>2.0</td>\n",
       "      <td>1.0</td>\n",
       "    </tr>\n",
       "    <tr>\n",
       "      <th>2</th>\n",
       "      <td>910225</td>\n",
       "      <td>NaN</td>\n",
       "      <td>9.0</td>\n",
       "      <td>17.0</td>\n",
       "      <td>NaN</td>\n",
       "      <td>NaN</td>\n",
       "      <td>NaN</td>\n",
       "      <td>NaN</td>\n",
       "      <td>17.0</td>\n",
       "      <td>10.0</td>\n",
       "      <td>...</td>\n",
       "      <td>2.0</td>\n",
       "      <td>9.0</td>\n",
       "      <td>9.0</td>\n",
       "      <td>6.0</td>\n",
       "      <td>3.0</td>\n",
       "      <td>9.0</td>\n",
       "      <td>2.0</td>\n",
       "      <td>5.0</td>\n",
       "      <td>2.0</td>\n",
       "      <td>3.0</td>\n",
       "    </tr>\n",
       "    <tr>\n",
       "      <th>3</th>\n",
       "      <td>910226</td>\n",
       "      <td>2.0</td>\n",
       "      <td>1.0</td>\n",
       "      <td>13.0</td>\n",
       "      <td>NaN</td>\n",
       "      <td>NaN</td>\n",
       "      <td>NaN</td>\n",
       "      <td>NaN</td>\n",
       "      <td>13.0</td>\n",
       "      <td>1.0</td>\n",
       "      <td>...</td>\n",
       "      <td>0.0</td>\n",
       "      <td>7.0</td>\n",
       "      <td>10.0</td>\n",
       "      <td>11.0</td>\n",
       "      <td>NaN</td>\n",
       "      <td>9.0</td>\n",
       "      <td>7.0</td>\n",
       "      <td>3.0</td>\n",
       "      <td>2.0</td>\n",
       "      <td>4.0</td>\n",
       "    </tr>\n",
       "    <tr>\n",
       "      <th>4</th>\n",
       "      <td>910241</td>\n",
       "      <td>NaN</td>\n",
       "      <td>1.0</td>\n",
       "      <td>20.0</td>\n",
       "      <td>NaN</td>\n",
       "      <td>NaN</td>\n",
       "      <td>NaN</td>\n",
       "      <td>NaN</td>\n",
       "      <td>14.0</td>\n",
       "      <td>3.0</td>\n",
       "      <td>...</td>\n",
       "      <td>2.0</td>\n",
       "      <td>3.0</td>\n",
       "      <td>5.0</td>\n",
       "      <td>4.0</td>\n",
       "      <td>2.0</td>\n",
       "      <td>9.0</td>\n",
       "      <td>3.0</td>\n",
       "      <td>4.0</td>\n",
       "      <td>1.0</td>\n",
       "      <td>3.0</td>\n",
       "    </tr>\n",
       "  </tbody>\n",
       "</table>\n",
       "<p>5 rows × 366 columns</p>\n",
       "</div>"
      ],
      "text/plain": [
       "      LNR  AGER_TYP  AKT_DAT_KL  ALTER_HH  ALTER_KIND1  ALTER_KIND2  \\\n",
       "0  910215       NaN         NaN       NaN          NaN          NaN   \n",
       "1  910220       NaN         9.0       NaN          NaN          NaN   \n",
       "2  910225       NaN         9.0      17.0          NaN          NaN   \n",
       "3  910226       2.0         1.0      13.0          NaN          NaN   \n",
       "4  910241       NaN         1.0      20.0          NaN          NaN   \n",
       "\n",
       "   ALTER_KIND3  ALTER_KIND4  ALTERSKATEGORIE_FEIN  ANZ_HAUSHALTE_AKTIV  \\\n",
       "0          NaN          NaN                   NaN                  NaN   \n",
       "1          NaN          NaN                  21.0                 11.0   \n",
       "2          NaN          NaN                  17.0                 10.0   \n",
       "3          NaN          NaN                  13.0                  1.0   \n",
       "4          NaN          NaN                  14.0                  3.0   \n",
       "\n",
       "          ...           VHN  VK_DHT4A  VK_DISTANZ  VK_ZG11  W_KEIT_KIND_HH  \\\n",
       "0         ...           NaN       NaN         NaN      NaN             NaN   \n",
       "1         ...           4.0       8.0        11.0     10.0             3.0   \n",
       "2         ...           2.0       9.0         9.0      6.0             3.0   \n",
       "3         ...           0.0       7.0        10.0     11.0             NaN   \n",
       "4         ...           2.0       3.0         5.0      4.0             2.0   \n",
       "\n",
       "   WOHNDAUER_2008  WOHNLAGE ZABEOTYP ANREDE_KZ ALTERSKATEGORIE_GROB  \n",
       "0             NaN       NaN      3.0       1.0                  2.0  \n",
       "1             9.0       4.0      5.0       2.0                  1.0  \n",
       "2             9.0       2.0      5.0       2.0                  3.0  \n",
       "3             9.0       7.0      3.0       2.0                  4.0  \n",
       "4             9.0       3.0      4.0       1.0                  3.0  \n",
       "\n",
       "[5 rows x 366 columns]"
      ]
     },
     "execution_count": 69,
     "metadata": {},
     "output_type": "execute_result"
    }
   ],
   "source": [
    "azdias.head()"
   ]
  },
  {
   "cell_type": "code",
   "execution_count": 70,
   "metadata": {
    "ExecuteTime": {
     "end_time": "2019-12-09T04:06:39.862359Z",
     "start_time": "2019-12-09T04:06:29.214021Z"
    }
   },
   "outputs": [
    {
     "name": "stdout",
     "output_type": "stream",
     "text": [
      "DataFrame have 366 columns.\n",
      "333 at least miss one value.\n"
     ]
    }
   ],
   "source": [
    "azdias_missing=missing_values_table(azdias)"
   ]
  },
  {
   "cell_type": "code",
   "execution_count": 18,
   "metadata": {
    "ExecuteTime": {
     "end_time": "2019-12-09T03:54:08.042405Z",
     "start_time": "2019-12-09T03:54:06.649546Z"
    }
   },
   "outputs": [
    {
     "data": {
      "text/plain": [
       "<matplotlib.axes._subplots.AxesSubplot at 0x1ef16ee3710>"
      ]
     },
     "execution_count": 18,
     "metadata": {},
     "output_type": "execute_result"
    },
    {
     "data": {
      "image/png": "[encoded data removed]",
      "text/plain": [
       "<Figure size 1224x360 with 1 Axes>"
      ]
     },
     "metadata": {},
     "output_type": "display_data"
    }
   ],
   "source": [
    "azdias_missing['% of Total Values'].head(70).plot(kind ='bar', figsize=(17,5))"
   ]
  },
  {
   "cell_type": "code",
   "execution_count": 19,
   "metadata": {
    "ExecuteTime": {
     "end_time": "2019-12-09T03:54:08.545765Z",
     "start_time": "2019-12-09T03:54:08.306101Z"
    }
   },
   "outputs": [
    {
     "data": {
      "text/plain": [
       "<matplotlib.axes._subplots.AxesSubplot at 0x1eec5a69dd8>"
      ]
     },
     "execution_count": 19,
     "metadata": {},
     "output_type": "execute_result"
    },
    {
     "data": {
      "image/png": "[encoded data removed]",
      "text/plain": [
       "<Figure size 720x216 with 1 Axes>"
      ]
     },
     "metadata": {},
     "output_type": "display_data"
    }
   ],
   "source": [
    "azdias_missing['% of Total Values'].plot(kind ='box', figsize=(10,3),vert=False)"
   ]
  },
  {
   "cell_type": "code",
   "execution_count": 71,
   "metadata": {
    "ExecuteTime": {
     "end_time": "2019-12-09T04:06:40.123965Z",
     "start_time": "2019-12-09T04:06:40.116952Z"
    }
   },
   "outputs": [
    {
     "data": {
      "text/plain": [
       "Index(['ALTER_KIND4', 'TITEL_KZ', 'ALTER_KIND3', 'D19_TELKO_ONLINE_DATUM',\n",
       "       'D19_BANKEN_LOKAL', 'D19_BANKEN_OFFLINE_DATUM', 'ALTER_KIND2',\n",
       "       'D19_TELKO_ANZ_12', 'D19_DIGIT_SERV', 'D19_BIO_OEKO', 'D19_TIERARTIKEL',\n",
       "       'D19_NAHRUNGSERGAENZUNG', 'D19_GARTEN', 'D19_LEBENSMITTEL',\n",
       "       'D19_WEIN_FEINKOST', 'D19_BANKEN_ANZ_12', 'D19_ENERGIE',\n",
       "       'D19_TELKO_ANZ_24', 'D19_BANKEN_REST', 'D19_VERSI_ANZ_12',\n",
       "       'D19_TELKO_OFFLINE_DATUM', 'D19_BILDUNG', 'ALTER_KIND1',\n",
       "       'D19_BEKLEIDUNG_GEH', 'D19_RATGEBER', 'D19_SAMMELARTIKEL',\n",
       "       'D19_BANKEN_ANZ_24', 'D19_FREIZEIT', 'D19_BANKEN_GROSS',\n",
       "       'D19_VERSI_ANZ_24', 'D19_SCHUHE', 'D19_HANDWERK', 'D19_TELKO_REST',\n",
       "       'D19_DROGERIEARTIKEL', 'D19_KINDERARTIKEL', 'D19_LOTTO', 'D19_KOSMETIK',\n",
       "       'D19_REISEN', 'D19_VERSAND_REST', 'D19_BANKEN_DIREKT',\n",
       "       'D19_BANKEN_ONLINE_DATUM', 'D19_TELKO_MOBILE', 'D19_HAUS_DEKO',\n",
       "       'D19_BEKLEIDUNG_REST', 'D19_BANKEN_DATUM', 'AGER_TYP',\n",
       "       'D19_TELKO_DATUM', 'D19_VERSICHERUNGEN', 'EXTSEL992',\n",
       "       'D19_VERSAND_ANZ_12', 'D19_VERSAND_OFFLINE_DATUM', 'D19_TECHNIK',\n",
       "       'D19_VOLLSORTIMENT', 'D19_GESAMT_ANZ_12', 'KK_KUNDENTYP',\n",
       "       'D19_VERSAND_ANZ_24', 'D19_GESAMT_OFFLINE_DATUM', 'D19_SONSTIGE',\n",
       "       'D19_GESAMT_ANZ_24', 'D19_VERSAND_ONLINE_DATUM', 'KBA05_BAUMAX',\n",
       "       'D19_GESAMT_ONLINE_DATUM', 'D19_VERSAND_DATUM', 'D19_GESAMT_DATUM',\n",
       "       'ALTER_HH'],\n",
       "      dtype='object')"
      ]
     },
     "execution_count": 71,
     "metadata": {},
     "output_type": "execute_result"
    }
   ],
   "source": [
    "missing_columns_to_drop=azdias_missing[azdias_missing['% of Total Values']>30].index\n",
    "missing_columns_to_drop"
   ]
  },
  {
   "cell_type": "code",
   "execution_count": 72,
   "metadata": {
    "ExecuteTime": {
     "end_time": "2019-12-09T04:06:43.542715Z",
     "start_time": "2019-12-09T04:06:42.368540Z"
    }
   },
   "outputs": [],
   "source": [
    "azdias.drop(missing_columns_to_drop,axis=1,inplace=True)"
   ]
  },
  {
   "cell_type": "code",
   "execution_count": 73,
   "metadata": {
    "ExecuteTime": {
     "end_time": "2019-12-09T04:06:53.139216Z",
     "start_time": "2019-12-09T04:06:43.964824Z"
    }
   },
   "outputs": [
    {
     "name": "stdout",
     "output_type": "stream",
     "text": [
      "DataFrame have 301 columns.\n",
      "268 at least miss one value.\n"
     ]
    }
   ],
   "source": [
    "azdias_missing_2=missing_values_table(azdias)"
   ]
  },
  {
   "cell_type": "markdown",
   "metadata": {},
   "source": [
    "## ROWS"
   ]
  },
  {
   "cell_type": "markdown",
   "metadata": {},
   "source": [
    "Lets Check Percentage of missing values pair row"
   ]
  },
  {
   "cell_type": "code",
   "execution_count": 74,
   "metadata": {
    "ExecuteTime": {
     "end_time": "2019-12-09T04:06:57.709514Z",
     "start_time": "2019-12-09T04:06:53.392999Z"
    }
   },
   "outputs": [],
   "source": [
    "clients_missing_data=(azdias.isnull().sum(axis=1)*100)/azdias.shape[1]"
   ]
  },
  {
   "cell_type": "code",
   "execution_count": 75,
   "metadata": {
    "ExecuteTime": {
     "end_time": "2019-12-09T04:06:58.450560Z",
     "start_time": "2019-12-09T04:06:57.964270Z"
    }
   },
   "outputs": [
    {
     "data": {
      "text/plain": [
       "<matplotlib.axes._subplots.AxesSubplot at 0x1eec5602b38>"
      ]
     },
     "execution_count": 75,
     "metadata": {},
     "output_type": "execute_result"
    },
    {
     "data": {
      "image/png": "[encoded data removed]",
      "text/plain": [
       "<Figure size 720x216 with 1 Axes>"
      ]
     },
     "metadata": {},
     "output_type": "display_data"
    }
   ],
   "source": [
    "clients_missing_data.plot(kind='box', figsize=(10,3),vert=False)"
   ]
  },
  {
   "cell_type": "markdown",
   "metadata": {},
   "source": [
    "Theres a los of clients that are missing a lot of information, those clients might be not worth saving, since the final output will be a client with almost every feature fill with the mean,median or mode of the corresponding feature."
   ]
  },
  {
   "cell_type": "code",
   "execution_count": 76,
   "metadata": {
    "ExecuteTime": {
     "end_time": "2019-12-09T04:06:58.739333Z",
     "start_time": "2019-12-09T04:06:58.696230Z"
    }
   },
   "outputs": [
    {
     "data": {
      "text/plain": [
       "107856"
      ]
     },
     "execution_count": 76,
     "metadata": {},
     "output_type": "execute_result"
    }
   ],
   "source": [
    "sum(clients_missing_data>25)"
   ]
  },
  {
   "cell_type": "markdown",
   "metadata": {},
   "source": [
    "Thankfully we have a lot of clients, if we set a threshold of 25 % of missing data, we can see that if we drop them we will loose only 12 % of the full dataset.. Yes, thats not ideal but it is prefered to work with real data, than with a lot of impute information"
   ]
  },
  {
   "cell_type": "code",
   "execution_count": 26,
   "metadata": {
    "ExecuteTime": {
     "end_time": "2019-12-09T03:54:27.149153Z",
     "start_time": "2019-12-09T03:54:27.143157Z"
    }
   },
   "outputs": [
    {
     "data": {
      "text/plain": [
       "(891221, 301)"
      ]
     },
     "execution_count": 26,
     "metadata": {},
     "output_type": "execute_result"
    }
   ],
   "source": [
    "azdias.shape"
   ]
  },
  {
   "cell_type": "code",
   "execution_count": 77,
   "metadata": {
    "ExecuteTime": {
     "end_time": "2019-12-09T04:07:07.589934Z",
     "start_time": "2019-12-09T04:07:01.326282Z"
    }
   },
   "outputs": [],
   "source": [
    "azdias.dropna(thresh=225,inplace=True)"
   ]
  },
  {
   "cell_type": "markdown",
   "metadata": {},
   "source": [
    "## Imputation"
   ]
  },
  {
   "cell_type": "markdown",
   "metadata": {},
   "source": [
    "An strategy to deal with the rest of **NaN** will be imputation with mean or most frequent value. Imputed values won’t be exactly right in most cases but systematically above or below their actual values. However, usually it gives more accurate results than dropping data points or columns entirely.\n",
    "\n",
    " Numerical data will be imputed with median value in the column.\n",
    " \n",
    " Categorical missing values will be assigned to zeros after transformation to dummy columns. "
   ]
  },
  {
   "cell_type": "code",
   "execution_count": 78,
   "metadata": {
    "ExecuteTime": {
     "end_time": "2019-12-09T04:07:07.854660Z",
     "start_time": "2019-12-09T04:07:07.851631Z"
    }
   },
   "outputs": [],
   "source": [
    "azdias_columns_impute = azdias_missing_2.index"
   ]
  },
  {
   "cell_type": "markdown",
   "metadata": {},
   "source": [
    " I create a file name *data_types.csv* manually, checking each feature with the DIALES Files to determine if a columns was numeric, categorical , or datetime. I add a column to express if the categorical feature can be represented in an ordinal way or needs to be represented in one hot encoding. Aditionaly I created an Anotations columns where I wrote some notes regarding to the preprocess. "
   ]
  },
  {
   "cell_type": "code",
   "execution_count": 79,
   "metadata": {
    "ExecuteTime": {
     "end_time": "2019-12-09T04:07:18.955616Z",
     "start_time": "2019-12-09T04:07:16.821986Z"
    }
   },
   "outputs": [],
   "source": [
    "azdias_dtypes = pd.read_csv('files/data_types.csv',sep=';')"
   ]
  },
  {
   "cell_type": "code",
   "execution_count": 80,
   "metadata": {
    "ExecuteTime": {
     "end_time": "2019-12-09T04:07:22.645698Z",
     "start_time": "2019-12-09T04:07:22.635669Z"
    }
   },
   "outputs": [
    {
     "data": {
      "text/html": [
       "<div>\n",
       "<style scoped>\n",
       "    .dataframe tbody tr th:only-of-type {\n",
       "        vertical-align: middle;\n",
       "    }\n",
       "\n",
       "    .dataframe tbody tr th {\n",
       "        vertical-align: top;\n",
       "    }\n",
       "\n",
       "    .dataframe thead th {\n",
       "        text-align: right;\n",
       "    }\n",
       "</style>\n",
       "<table border=\"1\" class=\"dataframe\">\n",
       "  <thead>\n",
       "    <tr style=\"text-align: right;\">\n",
       "      <th></th>\n",
       "      <th>Attribute</th>\n",
       "      <th>Feature_Type</th>\n",
       "      <th>Type</th>\n",
       "      <th>Anotations</th>\n",
       "    </tr>\n",
       "  </thead>\n",
       "  <tbody>\n",
       "    <tr>\n",
       "      <th>0</th>\n",
       "      <td>AGER_TYP</td>\n",
       "      <td>Category</td>\n",
       "      <td>OHE</td>\n",
       "      <td>NaN</td>\n",
       "    </tr>\n",
       "    <tr>\n",
       "      <th>1</th>\n",
       "      <td>ALTERSKATEGORIE_GROB</td>\n",
       "      <td>Category</td>\n",
       "      <td>Ordinal</td>\n",
       "      <td>NaN</td>\n",
       "    </tr>\n",
       "    <tr>\n",
       "      <th>2</th>\n",
       "      <td>ALTER_HH</td>\n",
       "      <td>datetime</td>\n",
       "      <td>NaN</td>\n",
       "      <td>Re Encode</td>\n",
       "    </tr>\n",
       "    <tr>\n",
       "      <th>3</th>\n",
       "      <td>ANREDE_KZ</td>\n",
       "      <td>Category</td>\n",
       "      <td>OHE</td>\n",
       "      <td>NaN</td>\n",
       "    </tr>\n",
       "    <tr>\n",
       "      <th>4</th>\n",
       "      <td>ANZ_HAUSHALTE_AKTIV</td>\n",
       "      <td>Numeric</td>\n",
       "      <td>NaN</td>\n",
       "      <td>NaN</td>\n",
       "    </tr>\n",
       "  </tbody>\n",
       "</table>\n",
       "</div>"
      ],
      "text/plain": [
       "              Attribute Feature_Type     Type Anotations\n",
       "0              AGER_TYP     Category      OHE        NaN\n",
       "1  ALTERSKATEGORIE_GROB     Category  Ordinal        NaN\n",
       "2              ALTER_HH     datetime      NaN  Re Encode\n",
       "3             ANREDE_KZ     Category      OHE        NaN\n",
       "4   ANZ_HAUSHALTE_AKTIV     Numeric       NaN        NaN"
      ]
     },
     "execution_count": 80,
     "metadata": {},
     "output_type": "execute_result"
    }
   ],
   "source": [
    "azdias_dtypes.head()"
   ]
  },
  {
   "cell_type": "code",
   "execution_count": 31,
   "metadata": {
    "ExecuteTime": {
     "end_time": "2019-12-09T03:54:35.061301Z",
     "start_time": "2019-12-09T03:54:35.050273Z"
    }
   },
   "outputs": [
    {
     "data": {
      "text/html": [
       "<div>\n",
       "<style scoped>\n",
       "    .dataframe tbody tr th:only-of-type {\n",
       "        vertical-align: middle;\n",
       "    }\n",
       "\n",
       "    .dataframe tbody tr th {\n",
       "        vertical-align: top;\n",
       "    }\n",
       "\n",
       "    .dataframe thead th {\n",
       "        text-align: right;\n",
       "    }\n",
       "</style>\n",
       "<table border=\"1\" class=\"dataframe\">\n",
       "  <thead>\n",
       "    <tr style=\"text-align: right;\">\n",
       "      <th></th>\n",
       "      <th>Attribute</th>\n",
       "      <th>Feature_Type</th>\n",
       "      <th>Type</th>\n",
       "      <th>Anotations</th>\n",
       "    </tr>\n",
       "  </thead>\n",
       "  <tbody>\n",
       "    <tr>\n",
       "      <th>2</th>\n",
       "      <td>ALTER_HH</td>\n",
       "      <td>datetime</td>\n",
       "      <td>NaN</td>\n",
       "      <td>Re Encode</td>\n",
       "    </tr>\n",
       "    <tr>\n",
       "      <th>269</th>\n",
       "      <td>LP_FAMILIE_GROB</td>\n",
       "      <td>Category</td>\n",
       "      <td>OHE</td>\n",
       "      <td>Replace</td>\n",
       "    </tr>\n",
       "    <tr>\n",
       "      <th>273</th>\n",
       "      <td>LP_STATUS_GROB</td>\n",
       "      <td>Category</td>\n",
       "      <td>OHE</td>\n",
       "      <td>Replace</td>\n",
       "    </tr>\n",
       "    <tr>\n",
       "      <th>287</th>\n",
       "      <td>PRAEGENDE_JUGENDJAHRE</td>\n",
       "      <td>Category</td>\n",
       "      <td>OHE</td>\n",
       "      <td>Re Encode</td>\n",
       "    </tr>\n",
       "    <tr>\n",
       "      <th>307</th>\n",
       "      <td>TITEL_KZ</td>\n",
       "      <td>Category</td>\n",
       "      <td>OHE</td>\n",
       "      <td>RE_ENCODE</td>\n",
       "    </tr>\n",
       "    <tr>\n",
       "      <th>319</th>\n",
       "      <td>CAMEO_INTL_2015</td>\n",
       "      <td>Category</td>\n",
       "      <td>Ordinal</td>\n",
       "      <td>Replace Values XX</td>\n",
       "    </tr>\n",
       "    <tr>\n",
       "      <th>353</th>\n",
       "      <td>LNR</td>\n",
       "      <td>Category</td>\n",
       "      <td>OHE</td>\n",
       "      <td>ID</td>\n",
       "    </tr>\n",
       "  </tbody>\n",
       "</table>\n",
       "</div>"
      ],
      "text/plain": [
       "                 Attribute Feature_Type     Type         Anotations\n",
       "2                 ALTER_HH     datetime      NaN          Re Encode\n",
       "269        LP_FAMILIE_GROB     Category      OHE            Replace\n",
       "273         LP_STATUS_GROB     Category      OHE            Replace\n",
       "287  PRAEGENDE_JUGENDJAHRE     Category      OHE          Re Encode\n",
       "307               TITEL_KZ     Category      OHE          RE_ENCODE\n",
       "319        CAMEO_INTL_2015     Category  Ordinal  Replace Values XX\n",
       "353                    LNR     Category      OHE                 ID"
      ]
     },
     "execution_count": 31,
     "metadata": {},
     "output_type": "execute_result"
    }
   ],
   "source": [
    "azdias_dtypes[~azdias_dtypes.Anotations.isnull()]"
   ]
  },
  {
   "cell_type": "markdown",
   "metadata": {},
   "source": [
    "ALTER_HH and TITEL_KZ were droped due to much missing information"
   ]
  },
  {
   "cell_type": "code",
   "execution_count": 32,
   "metadata": {
    "ExecuteTime": {
     "end_time": "2019-12-09T03:54:35.385602Z",
     "start_time": "2019-12-09T03:54:35.280919Z"
    }
   },
   "outputs": [
    {
     "data": {
      "text/plain": [
       "783755"
      ]
     },
     "execution_count": 32,
     "metadata": {},
     "output_type": "execute_result"
    }
   ],
   "source": [
    "azdias['LNR'].nunique() # THIS IS THE ID"
   ]
  },
  {
   "cell_type": "code",
   "execution_count": 81,
   "metadata": {
    "ExecuteTime": {
     "end_time": "2019-12-09T04:07:32.793765Z",
     "start_time": "2019-12-09T04:07:32.756661Z"
    }
   },
   "outputs": [],
   "source": [
    "azdias.set_index('LNR',inplace=True)"
   ]
  },
  {
   "cell_type": "code",
   "execution_count": 82,
   "metadata": {
    "ExecuteTime": {
     "end_time": "2019-12-09T04:07:34.906443Z",
     "start_time": "2019-12-09T04:07:34.763063Z"
    }
   },
   "outputs": [],
   "source": [
    "azdias['CAMEO_INTL_2015']=azdias['CAMEO_INTL_2015'].replace('XX',np.nan)\n",
    "azdias['CAMEO_INTL_2015']=azdias['CAMEO_INTL_2015'].astype('float')"
   ]
  },
  {
   "cell_type": "code",
   "execution_count": 83,
   "metadata": {
    "ExecuteTime": {
     "end_time": "2019-12-09T04:07:39.391180Z",
     "start_time": "2019-12-09T04:07:36.001170Z"
    }
   },
   "outputs": [],
   "source": [
    "# single parent is 3,4,5 , Family 6,7,8 multiperson household 9,10,11\n",
    "\n",
    "azdias.replace({'LP_FAMILIE_GROB' : { 4 : 3,\n",
    "                                      5 : 3,\n",
    "                                      7 : 6,\n",
    "                                      8 : 6,\n",
    "                                      10: 9,\n",
    "                                      11: 9}}, inplace =True)"
   ]
  },
  {
   "cell_type": "code",
   "execution_count": 84,
   "metadata": {
    "ExecuteTime": {
     "end_time": "2019-12-09T04:07:39.729078Z",
     "start_time": "2019-12-09T04:07:39.700002Z"
    }
   },
   "outputs": [],
   "source": [
    "# Social_Status 1,2: low-income earners | 3,4,5: average earners | 6,7: independants | 8,9: houseowners | 10: top earners \n",
    "azdias.replace({'LP_STATUS_GROB' :  { 2 : 1,\n",
    "                                      4 : 3,\n",
    "                                      5 : 3,\n",
    "                                      7 : 6,\n",
    "                                      9 : 8,}}, inplace =True)"
   ]
  },
  {
   "cell_type": "markdown",
   "metadata": {},
   "source": [
    "\n",
    "PRAEGENDE_JUGENDJAHRE\n",
    "\n",
    "| Value |                               Meaning                              |\n",
    "|-------|:------------------------------------------------------------------:|\n",
    "| -1, 0 |                               unknown                              |\n",
    "|   1   |                40ies - war years (Mainstream,   O+W)               |\n",
    "|   2   |          40ies - reconstruction years   (Avantgarde, O+W)          |\n",
    "|   3   |            50ies - economic miracle   (Mainstream, O+W)            |\n",
    "|   4   |      50ies - milk bar /   Individualisation (Avantgarde, O+W)      |\n",
    "|   5   |            60ies - economic miracle   (Mainstream, O+W)            |\n",
    "|   6   |    60ies - generation 68 /   student protestors (Avantgarde, W)    |\n",
    "|   7   |   60ies - opponents to the   building of the Wall (Avantgarde, O)  |\n",
    "|   8   |           70ies - family orientation   (Mainstream, O+W)           |\n",
    "|   9   |             70ies - peace movement   (Avantgarde, O+W)             |\n",
    "|   10  |              80ies - Generation Golf   (Mainstream, W)             |\n",
    "|   11  |           80ies - ecological awareness   (Avantgarde, W)           |\n",
    "|   12  | 80ies - FDJ / communist party   youth organisation (Mainstream, O) |\n",
    "|   13  |         80ies - Swords into   ploughshares (Avantgarde, O)         |\n",
    "|   14  |           90ies - digital media kids   (Mainstream, O+W)           |\n",
    "|   15  |          90ies - ecological awareness   (Avantgarde, O+W)          |"
   ]
  },
  {
   "cell_type": "code",
   "execution_count": 85,
   "metadata": {
    "ExecuteTime": {
     "end_time": "2019-12-09T04:07:43.316268Z",
     "start_time": "2019-12-09T04:07:42.850020Z"
    }
   },
   "outputs": [],
   "source": [
    "PRAEGENDE_JUGENDJAHRE = pd.read_excel('files/PRAEGENDE_JUGENDJAHRE.xlsx')"
   ]
  },
  {
   "cell_type": "code",
   "execution_count": 86,
   "metadata": {
    "ExecuteTime": {
     "end_time": "2019-12-09T04:07:43.608760Z",
     "start_time": "2019-12-09T04:07:43.601728Z"
    }
   },
   "outputs": [],
   "source": [
    "PRAEGENDE_JUGENDJAHRE_unknown=PRAEGENDE_JUGENDJAHRE[PRAEGENDE_JUGENDJAHRE['Value']==-1]\n",
    "PRAEGENDE_JUGENDJAHRE=PRAEGENDE_JUGENDJAHRE[PRAEGENDE_JUGENDJAHRE['Value']!=-1]"
   ]
  },
  {
   "cell_type": "code",
   "execution_count": 87,
   "metadata": {
    "ExecuteTime": {
     "end_time": "2019-12-09T04:07:44.384494Z",
     "start_time": "2019-12-09T04:07:43.900522Z"
    }
   },
   "outputs": [],
   "source": [
    "PRAEGENDE_JUGENDJAHRE['GENERATION_DECADE']=PRAEGENDE_JUGENDJAHRE['Meaning'].apply(lambda x:x.split('-')[0])\n",
    "PRAEGENDE_JUGENDJAHRE['Type']=PRAEGENDE_JUGENDJAHRE['Meaning'].apply(lambda x:x.split('-')[1].split('(')[0].split('(')[0])\n",
    "PRAEGENDE_JUGENDJAHRE['MOVEMENT']=PRAEGENDE_JUGENDJAHRE['Meaning'].str.extract(pat = '(\\(\\w*,)')\n",
    "PRAEGENDE_JUGENDJAHRE['MOVEMENT']=PRAEGENDE_JUGENDJAHRE['MOVEMENT'].str.strip('(,')\n",
    "PRAEGENDE_JUGENDJAHRE['SECTOR']=PRAEGENDE_JUGENDJAHRE['Meaning'].apply(lambda x:x.split(',')[1])\n",
    "PRAEGENDE_JUGENDJAHRE['SECTOR']=PRAEGENDE_JUGENDJAHRE['SECTOR'].str.strip(')')"
   ]
  },
  {
   "cell_type": "code",
   "execution_count": 88,
   "metadata": {
    "ExecuteTime": {
     "end_time": "2019-12-09T04:07:44.944765Z",
     "start_time": "2019-12-09T04:07:44.891456Z"
    }
   },
   "outputs": [],
   "source": [
    "PRAEGENDE_JUGENDJAHRE=pd.concat([PRAEGENDE_JUGENDJAHRE_unknown, PRAEGENDE_JUGENDJAHRE])"
   ]
  },
  {
   "cell_type": "code",
   "execution_count": 89,
   "metadata": {
    "ExecuteTime": {
     "end_time": "2019-12-09T04:07:46.428802Z",
     "start_time": "2019-12-09T04:07:46.415769Z"
    }
   },
   "outputs": [
    {
     "data": {
      "text/html": [
       "<div>\n",
       "<style scoped>\n",
       "    .dataframe tbody tr th:only-of-type {\n",
       "        vertical-align: middle;\n",
       "    }\n",
       "\n",
       "    .dataframe tbody tr th {\n",
       "        vertical-align: top;\n",
       "    }\n",
       "\n",
       "    .dataframe thead th {\n",
       "        text-align: right;\n",
       "    }\n",
       "</style>\n",
       "<table border=\"1\" class=\"dataframe\">\n",
       "  <thead>\n",
       "    <tr style=\"text-align: right;\">\n",
       "      <th></th>\n",
       "      <th>GENERATION_DECADE</th>\n",
       "      <th>MOVEMENT</th>\n",
       "      <th>Meaning</th>\n",
       "      <th>SECTOR</th>\n",
       "      <th>Type</th>\n",
       "      <th>Value</th>\n",
       "    </tr>\n",
       "  </thead>\n",
       "  <tbody>\n",
       "    <tr>\n",
       "      <th>0</th>\n",
       "      <td>NaN</td>\n",
       "      <td>NaN</td>\n",
       "      <td>unknown</td>\n",
       "      <td>NaN</td>\n",
       "      <td>NaN</td>\n",
       "      <td>-1</td>\n",
       "    </tr>\n",
       "    <tr>\n",
       "      <th>1</th>\n",
       "      <td>40ies</td>\n",
       "      <td>Mainstream</td>\n",
       "      <td>40ies - war years (Mainstream, O+W)</td>\n",
       "      <td>O+W</td>\n",
       "      <td>war years</td>\n",
       "      <td>1</td>\n",
       "    </tr>\n",
       "    <tr>\n",
       "      <th>2</th>\n",
       "      <td>40ies</td>\n",
       "      <td>Avantgarde</td>\n",
       "      <td>40ies - reconstruction years (Avantgarde, O+W)</td>\n",
       "      <td>O+W</td>\n",
       "      <td>reconstruction years</td>\n",
       "      <td>2</td>\n",
       "    </tr>\n",
       "    <tr>\n",
       "      <th>3</th>\n",
       "      <td>50ies</td>\n",
       "      <td>Mainstream</td>\n",
       "      <td>50ies - economic miracle (Mainstream, O+W)</td>\n",
       "      <td>O+W</td>\n",
       "      <td>economic miracle</td>\n",
       "      <td>3</td>\n",
       "    </tr>\n",
       "    <tr>\n",
       "      <th>4</th>\n",
       "      <td>50ies</td>\n",
       "      <td>Avantgarde</td>\n",
       "      <td>50ies - milk bar / Individualisation (Avantgar...</td>\n",
       "      <td>O+W</td>\n",
       "      <td>milk bar / Individualisation</td>\n",
       "      <td>4</td>\n",
       "    </tr>\n",
       "    <tr>\n",
       "      <th>5</th>\n",
       "      <td>60ies</td>\n",
       "      <td>Mainstream</td>\n",
       "      <td>60ies - economic miracle (Mainstream, O+W)</td>\n",
       "      <td>O+W</td>\n",
       "      <td>economic miracle</td>\n",
       "      <td>5</td>\n",
       "    </tr>\n",
       "    <tr>\n",
       "      <th>6</th>\n",
       "      <td>60ies</td>\n",
       "      <td>Avantgarde</td>\n",
       "      <td>60ies - generation 68 / student protestors (Av...</td>\n",
       "      <td>W</td>\n",
       "      <td>generation 68 / student protestors</td>\n",
       "      <td>6</td>\n",
       "    </tr>\n",
       "    <tr>\n",
       "      <th>7</th>\n",
       "      <td>60ies</td>\n",
       "      <td>Avantgarde</td>\n",
       "      <td>60ies - opponents to the building of the Wall ...</td>\n",
       "      <td>O</td>\n",
       "      <td>opponents to the building of the Wall</td>\n",
       "      <td>7</td>\n",
       "    </tr>\n",
       "    <tr>\n",
       "      <th>8</th>\n",
       "      <td>70ies</td>\n",
       "      <td>Mainstream</td>\n",
       "      <td>70ies - family orientation (Mainstream, O+W)</td>\n",
       "      <td>O+W</td>\n",
       "      <td>family orientation</td>\n",
       "      <td>8</td>\n",
       "    </tr>\n",
       "    <tr>\n",
       "      <th>9</th>\n",
       "      <td>70ies</td>\n",
       "      <td>Avantgarde</td>\n",
       "      <td>70ies - peace movement (Avantgarde, O+W)</td>\n",
       "      <td>O+W</td>\n",
       "      <td>peace movement</td>\n",
       "      <td>9</td>\n",
       "    </tr>\n",
       "    <tr>\n",
       "      <th>10</th>\n",
       "      <td>80ies</td>\n",
       "      <td>Mainstream</td>\n",
       "      <td>80ies - Generation Golf (Mainstream, W)</td>\n",
       "      <td>W</td>\n",
       "      <td>Generation Golf</td>\n",
       "      <td>10</td>\n",
       "    </tr>\n",
       "    <tr>\n",
       "      <th>11</th>\n",
       "      <td>80ies</td>\n",
       "      <td>Avantgarde</td>\n",
       "      <td>80ies - ecological awareness (Avantgarde, W)</td>\n",
       "      <td>W</td>\n",
       "      <td>ecological awareness</td>\n",
       "      <td>11</td>\n",
       "    </tr>\n",
       "    <tr>\n",
       "      <th>12</th>\n",
       "      <td>80ies</td>\n",
       "      <td>Mainstream</td>\n",
       "      <td>80ies - FDJ / communist party youth organisati...</td>\n",
       "      <td>O</td>\n",
       "      <td>FDJ / communist party youth organisation</td>\n",
       "      <td>12</td>\n",
       "    </tr>\n",
       "    <tr>\n",
       "      <th>13</th>\n",
       "      <td>80ies</td>\n",
       "      <td>Avantgarde</td>\n",
       "      <td>80ies - Swords into ploughshares (Avantgarde, O)</td>\n",
       "      <td>O</td>\n",
       "      <td>Swords into ploughshares</td>\n",
       "      <td>13</td>\n",
       "    </tr>\n",
       "    <tr>\n",
       "      <th>14</th>\n",
       "      <td>90ies</td>\n",
       "      <td>Mainstream</td>\n",
       "      <td>90ies - digital media kids (Mainstream, O+W)</td>\n",
       "      <td>O+W</td>\n",
       "      <td>digital media kids</td>\n",
       "      <td>14</td>\n",
       "    </tr>\n",
       "    <tr>\n",
       "      <th>15</th>\n",
       "      <td>90ies</td>\n",
       "      <td>Avantgarde</td>\n",
       "      <td>90ies - ecological awareness (Avantgarde, O+W)</td>\n",
       "      <td>O+W</td>\n",
       "      <td>ecological awareness</td>\n",
       "      <td>15</td>\n",
       "    </tr>\n",
       "  </tbody>\n",
       "</table>\n",
       "</div>"
      ],
      "text/plain": [
       "   GENERATION_DECADE    MOVEMENT  \\\n",
       "0                NaN         NaN   \n",
       "1             40ies   Mainstream   \n",
       "2             40ies   Avantgarde   \n",
       "3             50ies   Mainstream   \n",
       "4             50ies   Avantgarde   \n",
       "5             60ies   Mainstream   \n",
       "6             60ies   Avantgarde   \n",
       "7             60ies   Avantgarde   \n",
       "8             70ies   Mainstream   \n",
       "9             70ies   Avantgarde   \n",
       "10            80ies   Mainstream   \n",
       "11            80ies   Avantgarde   \n",
       "12            80ies   Mainstream   \n",
       "13            80ies   Avantgarde   \n",
       "14            90ies   Mainstream   \n",
       "15            90ies   Avantgarde   \n",
       "\n",
       "                                              Meaning SECTOR  \\\n",
       "0                                             unknown    NaN   \n",
       "1                 40ies - war years (Mainstream, O+W)    O+W   \n",
       "2      40ies - reconstruction years (Avantgarde, O+W)    O+W   \n",
       "3          50ies - economic miracle (Mainstream, O+W)    O+W   \n",
       "4   50ies - milk bar / Individualisation (Avantgar...    O+W   \n",
       "5          60ies - economic miracle (Mainstream, O+W)    O+W   \n",
       "6   60ies - generation 68 / student protestors (Av...      W   \n",
       "7   60ies - opponents to the building of the Wall ...      O   \n",
       "8        70ies - family orientation (Mainstream, O+W)    O+W   \n",
       "9            70ies - peace movement (Avantgarde, O+W)    O+W   \n",
       "10            80ies - Generation Golf (Mainstream, W)      W   \n",
       "11       80ies - ecological awareness (Avantgarde, W)      W   \n",
       "12  80ies - FDJ / communist party youth organisati...      O   \n",
       "13   80ies - Swords into ploughshares (Avantgarde, O)      O   \n",
       "14       90ies - digital media kids (Mainstream, O+W)    O+W   \n",
       "15     90ies - ecological awareness (Avantgarde, O+W)    O+W   \n",
       "\n",
       "                                          Type  Value  \n",
       "0                                          NaN     -1  \n",
       "1                                   war years       1  \n",
       "2                        reconstruction years       2  \n",
       "3                            economic miracle       3  \n",
       "4                milk bar / Individualisation       4  \n",
       "5                            economic miracle       5  \n",
       "6          generation 68 / student protestors       6  \n",
       "7       opponents to the building of the Wall       7  \n",
       "8                          family orientation       8  \n",
       "9                              peace movement       9  \n",
       "10                            Generation Golf      10  \n",
       "11                       ecological awareness      11  \n",
       "12   FDJ / communist party youth organisation      12  \n",
       "13                   Swords into ploughshares      13  \n",
       "14                         digital media kids      14  \n",
       "15                       ecological awareness      15  "
      ]
     },
     "execution_count": 89,
     "metadata": {},
     "output_type": "execute_result"
    }
   ],
   "source": [
    "PRAEGENDE_JUGENDJAHRE"
   ]
  },
  {
   "cell_type": "code",
   "execution_count": 42,
   "metadata": {
    "ExecuteTime": {
     "end_time": "2019-12-09T03:54:43.808240Z",
     "start_time": "2019-12-09T03:54:43.801244Z"
    }
   },
   "outputs": [
    {
     "data": {
      "text/plain": [
       "Category    357\n",
       "Numeric       9\n",
       "datetime      3\n",
       "Name: Feature_Type, dtype: int64"
      ]
     },
     "execution_count": 42,
     "metadata": {},
     "output_type": "execute_result"
    }
   ],
   "source": [
    "azdias_dtypes.Feature_Type.value_counts()"
   ]
  },
  {
   "cell_type": "code",
   "execution_count": 43,
   "metadata": {
    "ExecuteTime": {
     "end_time": "2019-12-09T03:54:44.118657Z",
     "start_time": "2019-12-09T03:54:44.024817Z"
    }
   },
   "outputs": [
    {
     "data": {
      "text/plain": [
       "Feature_Type  Type   \n",
       "Category      OHE         44\n",
       "              Ordinal    313\n",
       "Name: Type, dtype: int64"
      ]
     },
     "execution_count": 43,
     "metadata": {},
     "output_type": "execute_result"
    }
   ],
   "source": [
    "azdias_dtypes.groupby(['Feature_Type','Type'])['Type'].count()"
   ]
  },
  {
   "cell_type": "code",
   "execution_count": 44,
   "metadata": {
    "ExecuteTime": {
     "end_time": "2019-12-09T03:54:44.351264Z",
     "start_time": "2019-12-09T03:54:44.343241Z"
    }
   },
   "outputs": [
    {
     "data": {
      "text/plain": [
       "Category    258\n",
       "Numeric       8\n",
       "datetime      2\n",
       "Name: Feature_Type, dtype: int64"
      ]
     },
     "execution_count": 44,
     "metadata": {},
     "output_type": "execute_result"
    }
   ],
   "source": [
    "azdias_dtypes[azdias_dtypes.Attribute.isin(azdias_columns_impute)].Feature_Type.value_counts()"
   ]
  },
  {
   "cell_type": "code",
   "execution_count": 45,
   "metadata": {
    "ExecuteTime": {
     "end_time": "2019-12-09T03:54:44.592891Z",
     "start_time": "2019-12-09T03:54:44.581866Z"
    }
   },
   "outputs": [
    {
     "data": {
      "text/html": [
       "<div>\n",
       "<style scoped>\n",
       "    .dataframe tbody tr th:only-of-type {\n",
       "        vertical-align: middle;\n",
       "    }\n",
       "\n",
       "    .dataframe tbody tr th {\n",
       "        vertical-align: top;\n",
       "    }\n",
       "\n",
       "    .dataframe thead th {\n",
       "        text-align: right;\n",
       "    }\n",
       "</style>\n",
       "<table border=\"1\" class=\"dataframe\">\n",
       "  <thead>\n",
       "    <tr style=\"text-align: right;\">\n",
       "      <th></th>\n",
       "      <th>Attribute</th>\n",
       "      <th>Feature_Type</th>\n",
       "      <th>Type</th>\n",
       "      <th>Anotations</th>\n",
       "    </tr>\n",
       "  </thead>\n",
       "  <tbody>\n",
       "    <tr>\n",
       "      <th>4</th>\n",
       "      <td>ANZ_HAUSHALTE_AKTIV</td>\n",
       "      <td>Numeric</td>\n",
       "      <td>NaN</td>\n",
       "      <td>NaN</td>\n",
       "    </tr>\n",
       "    <tr>\n",
       "      <th>5</th>\n",
       "      <td>ANZ_HH_TITEL</td>\n",
       "      <td>Numeric</td>\n",
       "      <td>NaN</td>\n",
       "      <td>NaN</td>\n",
       "    </tr>\n",
       "    <tr>\n",
       "      <th>6</th>\n",
       "      <td>ANZ_PERSONEN</td>\n",
       "      <td>Numeric</td>\n",
       "      <td>NaN</td>\n",
       "      <td>NaN</td>\n",
       "    </tr>\n",
       "    <tr>\n",
       "      <th>7</th>\n",
       "      <td>ANZ_TITEL</td>\n",
       "      <td>Numeric</td>\n",
       "      <td>NaN</td>\n",
       "      <td>NaN</td>\n",
       "    </tr>\n",
       "    <tr>\n",
       "      <th>85</th>\n",
       "      <td>GEBURTSJAHR</td>\n",
       "      <td>Numeric</td>\n",
       "      <td>NaN</td>\n",
       "      <td>NaN</td>\n",
       "    </tr>\n",
       "    <tr>\n",
       "      <th>162</th>\n",
       "      <td>KBA13_ANZAHL_PKW</td>\n",
       "      <td>Numeric</td>\n",
       "      <td>NaN</td>\n",
       "      <td>NaN</td>\n",
       "    </tr>\n",
       "    <tr>\n",
       "      <th>274</th>\n",
       "      <td>MIN_GEBAEUDEJAHR</td>\n",
       "      <td>Numeric</td>\n",
       "      <td>NaN</td>\n",
       "      <td>NaN</td>\n",
       "    </tr>\n",
       "    <tr>\n",
       "      <th>317</th>\n",
       "      <td>ANZ_STATISTISCHE_HAUSHALTE</td>\n",
       "      <td>Numeric</td>\n",
       "      <td>NaN</td>\n",
       "      <td>NaN</td>\n",
       "    </tr>\n",
       "    <tr>\n",
       "      <th>318</th>\n",
       "      <td>ARBEIT</td>\n",
       "      <td>Numeric</td>\n",
       "      <td>NaN</td>\n",
       "      <td>NaN</td>\n",
       "    </tr>\n",
       "  </tbody>\n",
       "</table>\n",
       "</div>"
      ],
      "text/plain": [
       "                      Attribute Feature_Type Type Anotations\n",
       "4           ANZ_HAUSHALTE_AKTIV     Numeric   NaN        NaN\n",
       "5                  ANZ_HH_TITEL     Numeric   NaN        NaN\n",
       "6                  ANZ_PERSONEN     Numeric   NaN        NaN\n",
       "7                     ANZ_TITEL     Numeric   NaN        NaN\n",
       "85                  GEBURTSJAHR     Numeric   NaN        NaN\n",
       "162            KBA13_ANZAHL_PKW     Numeric   NaN        NaN\n",
       "274            MIN_GEBAEUDEJAHR     Numeric   NaN        NaN\n",
       "317  ANZ_STATISTISCHE_HAUSHALTE     Numeric   NaN        NaN\n",
       "318                      ARBEIT     Numeric   NaN        NaN"
      ]
     },
     "execution_count": 45,
     "metadata": {},
     "output_type": "execute_result"
    }
   ],
   "source": [
    "azdias_dtypes[azdias_dtypes.Feature_Type=='Numeric ']"
   ]
  },
  {
   "cell_type": "code",
   "execution_count": 90,
   "metadata": {
    "ExecuteTime": {
     "end_time": "2019-12-09T04:07:56.112564Z",
     "start_time": "2019-12-09T04:07:56.106549Z"
    }
   },
   "outputs": [],
   "source": [
    "columns_numeric = azdias_dtypes[azdias_dtypes.Feature_Type=='Numeric ']['Attribute'].tolist()\n",
    "columns_categorical = azdias_dtypes[azdias_dtypes.Feature_Type=='Category']['Attribute'].tolist()"
   ]
  },
  {
   "cell_type": "code",
   "execution_count": 91,
   "metadata": {
    "ExecuteTime": {
     "end_time": "2019-12-09T04:08:03.552183Z",
     "start_time": "2019-12-09T04:08:03.082755Z"
    }
   },
   "outputs": [],
   "source": [
    "for col in columns_numeric:\n",
    "    if col in azdias.columns:\n",
    "        azdias[col].fillna(azdias[col].median(),inplace=True)"
   ]
  },
  {
   "cell_type": "code",
   "execution_count": 119,
   "metadata": {
    "ExecuteTime": {
     "end_time": "2019-12-09T04:18:20.938778Z",
     "start_time": "2019-12-09T04:17:59.626486Z"
    }
   },
   "outputs": [],
   "source": [
    "values_mode = {}\n",
    "for col in columns_categorical:\n",
    "    if col in azdias.columns:\n",
    "        values_mode[col] = azdias[col].mode()[0]"
   ]
  },
  {
   "cell_type": "code",
   "execution_count": 122,
   "metadata": {
    "ExecuteTime": {
     "end_time": "2019-12-09T04:18:45.569882Z",
     "start_time": "2019-12-09T04:18:44.827895Z"
    }
   },
   "outputs": [],
   "source": [
    "azdias.fillna(value=values_mode,inplace=True)"
   ]
  },
  {
   "cell_type": "code",
   "execution_count": 49,
   "metadata": {
    "ExecuteTime": {
     "end_time": "2019-12-09T03:55:15.291377Z",
     "start_time": "2019-12-09T03:55:15.280348Z"
    }
   },
   "outputs": [
    {
     "data": {
      "text/html": [
       "<div>\n",
       "<style scoped>\n",
       "    .dataframe tbody tr th:only-of-type {\n",
       "        vertical-align: middle;\n",
       "    }\n",
       "\n",
       "    .dataframe tbody tr th {\n",
       "        vertical-align: top;\n",
       "    }\n",
       "\n",
       "    .dataframe thead th {\n",
       "        text-align: right;\n",
       "    }\n",
       "</style>\n",
       "<table border=\"1\" class=\"dataframe\">\n",
       "  <thead>\n",
       "    <tr style=\"text-align: right;\">\n",
       "      <th></th>\n",
       "      <th>Attribute</th>\n",
       "      <th>Feature_Type</th>\n",
       "      <th>Type</th>\n",
       "      <th>Anotations</th>\n",
       "    </tr>\n",
       "  </thead>\n",
       "  <tbody>\n",
       "    <tr>\n",
       "      <th>2</th>\n",
       "      <td>ALTER_HH</td>\n",
       "      <td>datetime</td>\n",
       "      <td>NaN</td>\n",
       "      <td>Re Encode</td>\n",
       "    </tr>\n",
       "    <tr>\n",
       "      <th>337</th>\n",
       "      <td>EINGEFUEGT_AM</td>\n",
       "      <td>datetime</td>\n",
       "      <td>NaN</td>\n",
       "      <td>NaN</td>\n",
       "    </tr>\n",
       "    <tr>\n",
       "      <th>338</th>\n",
       "      <td>EINGEZOGENAM_HH_JAHR</td>\n",
       "      <td>datetime</td>\n",
       "      <td>NaN</td>\n",
       "      <td>NaN</td>\n",
       "    </tr>\n",
       "  </tbody>\n",
       "</table>\n",
       "</div>"
      ],
      "text/plain": [
       "                Attribute Feature_Type Type Anotations\n",
       "2                ALTER_HH     datetime  NaN  Re Encode\n",
       "337         EINGEFUEGT_AM     datetime  NaN        NaN\n",
       "338  EINGEZOGENAM_HH_JAHR     datetime  NaN        NaN"
      ]
     },
     "execution_count": 49,
     "metadata": {},
     "output_type": "execute_result"
    }
   ],
   "source": [
    "azdias_dtypes[azdias_dtypes.Feature_Type=='datetime']"
   ]
  },
  {
   "cell_type": "code",
   "execution_count": 50,
   "metadata": {
    "ExecuteTime": {
     "end_time": "2019-12-09T03:55:20.343996Z",
     "start_time": "2019-12-09T03:55:15.527658Z"
    }
   },
   "outputs": [],
   "source": [
    "# EINGEFUEGT-> Insertion\n",
    "azdias['EINGEFUEGT_AM']=pd.to_datetime(azdias['EINGEFUEGT_AM'])\n",
    "# EINGEZOGENAM_HH_JAHR - > INCORPORATED HH YEAR\n",
    "azdias['EINGEZOGENAM_HH_JAHR']=pd.to_datetime(azdias['EINGEZOGENAM_HH_JAHR'].astype('int'),format='%Y')"
   ]
  },
  {
   "cell_type": "code",
   "execution_count": 51,
   "metadata": {
    "ExecuteTime": {
     "end_time": "2019-12-09T03:55:20.926772Z",
     "start_time": "2019-12-09T03:55:20.575578Z"
    }
   },
   "outputs": [
    {
     "data": {
      "image/png": "[encoded data removed]",
      "text/plain": [
       "<Figure size 1080x216 with 1 Axes>"
      ]
     },
     "metadata": {},
     "output_type": "display_data"
    }
   ],
   "source": [
    "azdias['EINGEFUEGT_AM'].dt.year.value_counts().sort_index().plot(kind='bar',figsize=(15,3));"
   ]
  },
  {
   "cell_type": "code",
   "execution_count": 52,
   "metadata": {
    "ExecuteTime": {
     "end_time": "2019-12-09T03:55:22.337486Z",
     "start_time": "2019-12-09T03:55:21.148326Z"
    }
   },
   "outputs": [],
   "source": [
    "azdias.drop('EINGEFUEGT_AM',axis=1,inplace=True)"
   ]
  },
  {
   "cell_type": "code",
   "execution_count": 53,
   "metadata": {
    "ExecuteTime": {
     "end_time": "2019-12-09T03:55:22.833836Z",
     "start_time": "2019-12-09T03:55:22.584154Z"
    }
   },
   "outputs": [
    {
     "data": {
      "text/plain": [
       "<matplotlib.axes._subplots.AxesSubplot at 0x1eec4ae6780>"
      ]
     },
     "execution_count": 53,
     "metadata": {},
     "output_type": "execute_result"
    },
    {
     "data": {
      "image/png": "[encoded data removed]",
      "text/plain": [
       "<Figure size 1224x216 with 1 Axes>"
      ]
     },
     "metadata": {},
     "output_type": "display_data"
    }
   ],
   "source": [
    "azdias['EINGEZOGENAM_HH_JAHR'].dt.year.value_counts().sort_index().plot(kind='line',figsize=(17,3))"
   ]
  },
  {
   "cell_type": "code",
   "execution_count": 93,
   "metadata": {
    "ExecuteTime": {
     "end_time": "2019-12-09T04:08:32.968566Z",
     "start_time": "2019-12-09T04:08:31.707012Z"
    }
   },
   "outputs": [],
   "source": [
    "azdias.drop('EINGEZOGENAM_HH_JAHR',axis=1,inplace=True)"
   ]
  },
  {
   "cell_type": "code",
   "execution_count": 124,
   "metadata": {
    "ExecuteTime": {
     "end_time": "2019-12-09T04:19:17.139585Z",
     "start_time": "2019-12-09T04:19:09.660730Z"
    }
   },
   "outputs": [
    {
     "name": "stdout",
     "output_type": "stream",
     "text": [
      "DataFrame have 299 columns.\n",
      "0 at least miss one value.\n"
     ]
    },
    {
     "data": {
      "text/html": [
       "<div>\n",
       "<style scoped>\n",
       "    .dataframe tbody tr th:only-of-type {\n",
       "        vertical-align: middle;\n",
       "    }\n",
       "\n",
       "    .dataframe tbody tr th {\n",
       "        vertical-align: top;\n",
       "    }\n",
       "\n",
       "    .dataframe thead th {\n",
       "        text-align: right;\n",
       "    }\n",
       "</style>\n",
       "<table border=\"1\" class=\"dataframe\">\n",
       "  <thead>\n",
       "    <tr style=\"text-align: right;\">\n",
       "      <th></th>\n",
       "      <th>Missing</th>\n",
       "      <th>% of Total Values</th>\n",
       "    </tr>\n",
       "  </thead>\n",
       "  <tbody>\n",
       "  </tbody>\n",
       "</table>\n",
       "</div>"
      ],
      "text/plain": [
       "Empty DataFrame\n",
       "Columns: [Missing , % of Total Values]\n",
       "Index: []"
      ]
     },
     "execution_count": 124,
     "metadata": {},
     "output_type": "execute_result"
    }
   ],
   "source": [
    "missing_values_table(azdias)"
   ]
  },
  {
   "cell_type": "code",
   "execution_count": 125,
   "metadata": {
    "ExecuteTime": {
     "end_time": "2019-12-09T04:19:41.722398Z",
     "start_time": "2019-12-09T04:19:20.303774Z"
    }
   },
   "outputs": [],
   "source": [
    "azdias=pd.merge(azdias,PRAEGENDE_JUGENDJAHRE[['Value','GENERATION_DECADE', 'Type', 'MOVEMENT', 'SECTOR']],\n",
    "        left_on='PRAEGENDE_JUGENDJAHRE', right_on='Value')"
   ]
  },
  {
   "cell_type": "code",
   "execution_count": 126,
   "metadata": {
    "ExecuteTime": {
     "end_time": "2019-12-09T04:19:45.690016Z",
     "start_time": "2019-12-09T04:19:42.029248Z"
    }
   },
   "outputs": [],
   "source": [
    "azdias.drop('PRAEGENDE_JUGENDJAHRE',axis=1,inplace=True)"
   ]
  },
  {
   "cell_type": "markdown",
   "metadata": {},
   "source": [
    "## OHE"
   ]
  },
  {
   "cell_type": "code",
   "execution_count": 58,
   "metadata": {
    "ExecuteTime": {
     "end_time": "2019-12-09T03:55:52.726732Z",
     "start_time": "2019-12-09T03:55:52.721720Z"
    }
   },
   "outputs": [],
   "source": [
    "columns_OHE=azdias_dtypes[azdias_dtypes.Type=='OHE']['Attribute'].tolist()"
   ]
  },
  {
   "cell_type": "code",
   "execution_count": 133,
   "metadata": {
    "ExecuteTime": {
     "end_time": "2019-12-09T04:22:51.663741Z",
     "start_time": "2019-12-09T04:22:46.681496Z"
    }
   },
   "outputs": [],
   "source": [
    "columns_OHE_drop=[]\n",
    "for col in columns_OHE+['GENERATION_DECADE', 'Type', 'MOVEMENT', 'SECTOR']:\n",
    "    if col in azdias.columns:\n",
    "        columns_OHE_drop.append(col)\n",
    "df_encoded=pd.get_dummies(azdias[columns_OHE_drop],drop_first=True)\n",
    "azdias.drop(columns_OHE_drop,axis=1,inplace=True)\n",
    "azdias = pd.concat([azdias,df_encoded],axis=1)"
   ]
  },
  {
   "cell_type": "markdown",
   "metadata": {},
   "source": [
    "## standardization"
   ]
  },
  {
   "cell_type": "markdown",
   "metadata": {},
   "source": [
    "Then standardization procedure was used to scale features. The advantage of standardization procedure that it does not bound values to a specific range and it is much less affected by outliers."
   ]
  },
  {
   "cell_type": "code",
   "execution_count": 137,
   "metadata": {
    "ExecuteTime": {
     "end_time": "2019-12-09T04:28:51.080735Z",
     "start_time": "2019-12-09T04:28:51.077725Z"
    }
   },
   "outputs": [],
   "source": [
    "from sklearn.preprocessing import StandardScaler\n",
    "Standard_scaler = StandardScaler()"
   ]
  },
  {
   "cell_type": "code",
   "execution_count": null,
   "metadata": {
    "ExecuteTime": {
     "start_time": "2019-12-09T04:29:11.156Z"
    }
   },
   "outputs": [],
   "source": [
    "standard_scaled_features_df = Standard_scaler.fit_transform(azdias)\n",
    "\n",
    "azdias_standard_scaler = pd.DataFrame(standard_scaled_features_df, index=azdias.index, columns=azdias.columns)"
   ]
  },
  {
   "cell_type": "markdown",
   "metadata": {},
   "source": [
    "# Part 1: Customer Segmentation Report\n",
    "\n",
    "The main bulk of your analysis will come in this part of the project. Here, you should use unsupervised learning techniques to describe the relationship between the demographics of the company's existing customers and the general population of Germany. By the end of this part, you should be able to describe parts of the general population that are more likely to be part of the mail-order company's main customer base, and which parts of the general population are less so."
   ]
  },
  {
   "cell_type": "code",
   "execution_count": null,
   "metadata": {
    "ExecuteTime": {
     "end_time": "2019-12-09T01:57:10.111972Z",
     "start_time": "2019-12-09T01:46:21.047Z"
    }
   },
   "outputs": [],
   "source": [
    "from sklearn.cluster import k_means"
   ]
  },
  {
   "cell_type": "code",
   "execution_count": 135,
   "metadata": {
    "ExecuteTime": {
     "end_time": "2019-12-09T04:27:39.674485Z",
     "start_time": "2019-12-09T04:27:39.661480Z"
    }
   },
   "outputs": [],
   "source": [
    "def elbow_method_computing(df,min_k,max_k,step,name):\n",
    "    \n",
    "    # Crea un dataframe donde se almacenarán los resultados de las evaluaciones de cada combinación de clusters\n",
    "    res_clusters = pd.DataFrame({'k': np.arange(min_k, max_k, step)}, columns=['k'])\n",
    "    res_clusters['wcss'] = 0\n",
    "    \n",
    "    # Comienza a crearlos cluster indicados, guardando los resultados asociados.\n",
    "    for ind in res_clusters.index:\n",
    "        val_k = res_clusters.at[ind,'k']\n",
    "        clusterer = KMeans(n_clusters = val_k, random_state = 42)\n",
    "        cluster_labels = clusterer.fit_predict(df)\n",
    "        \n",
    "        wcss = clusterer.inertia_\n",
    "        res_clusters.at[ind,'wcss'] = wcss\n",
    "        \n",
    "    return res_clusters"
   ]
  },
  {
   "cell_type": "code",
   "execution_count": null,
   "metadata": {},
   "outputs": [],
   "source": []
  },
  {
   "cell_type": "code",
   "execution_count": null,
   "metadata": {},
   "outputs": [],
   "source": [
    "def silhouette_kmeans(df,clusters,step):\n",
    "    for K in range(2,clusters,step):\n",
    "        cluster_kmeans = KMeans(n_clusters=K, random_state=np.random.randint(100), n_jobs=-1)\n",
    "        cluster_kmeans.fit(df)\n",
    "        y_kmeans = cluster_kmeans.predict(df)\n",
    "        centers_=cluster_kmeans.cluster_centers_\n",
    "        silhouette_avg = silhouette_score(df, y_kmeans)\n",
    "        print('Number of K = {}, The average silhouette_score is :{}'.format(K,silhouette_avg))"
   ]
  },
  {
   "cell_type": "code",
   "execution_count": null,
   "metadata": {},
   "outputs": [],
   "source": []
  },
  {
   "cell_type": "code",
   "execution_count": null,
   "metadata": {},
   "outputs": [],
   "source": []
  },
  {
   "cell_type": "code",
   "execution_count": null,
   "metadata": {},
   "outputs": [],
   "source": []
  },
  {
   "cell_type": "code",
   "execution_count": null,
   "metadata": {},
   "outputs": [],
   "source": []
  },
  {
   "cell_type": "markdown",
   "metadata": {},
   "source": [
    "# Part 2: Supervised Learning Model\n",
    "\n",
    "Now that you've found which parts of the population are more likely to be customers of the mail-order company, it's time to build a prediction model. Each of the rows in the \"MAILOUT\" data files represents an individual that was targeted for a mailout campaign. Ideally, we should be able to use the demographic information from each individual to decide whether or not it will be worth it to include that person in the campaign.\n",
    "\n",
    "The \"MAILOUT\" data has been split into two approximately equal parts, each with almost 43 000 data rows. In this part, you can verify your model with the \"TRAIN\" partition, which includes a column, \"RESPONSE\", that states whether or not a person became a customer of the company following the campaign. In the next part, you'll need to create predictions on the \"TEST\" partition, where the \"RESPONSE\" column has been withheld."
   ]
  },
  {
   "cell_type": "code",
   "execution_count": null,
   "metadata": {
    "ExecuteTime": {
     "end_time": "2019-12-09T01:57:10.112816Z",
     "start_time": "2019-12-09T01:46:21.100Z"
    }
   },
   "outputs": [],
   "source": [
    "mailout_train = pd.read_csv('../../data/Term2/capstone/arvato_data/Udacity_MAILOUT_052018_TRAIN.csv', sep=';')"
   ]
  },
  {
   "cell_type": "code",
   "execution_count": null,
   "metadata": {},
   "outputs": [],
   "source": []
  },
  {
   "cell_type": "markdown",
   "metadata": {},
   "source": [
    "# Part 3: Kaggle Competition\n",
    "\n",
    "Now that you've created a model to predict which individuals are most likely to respond to a mailout campaign, it's time to test that model in competition through Kaggle. If you click on the link [here](http://www.kaggle.com/t/21e6d45d4c574c7fa2d868f0e8c83140), you'll be taken to the competition page where, if you have a Kaggle account, you can enter. If you're one of the top performers, you may have the chance to be contacted by a hiring manager from Arvato or Bertelsmann for an interview!\n",
    "\n",
    "Your entry to the competition should be a CSV file with two columns. The first column should be a copy of \"LNR\", which acts as an ID number for each individual in the \"TEST\" partition. The second column, \"RESPONSE\", should be some measure of how likely each individual became a customer – this might not be a straightforward probability. As you should have found in Part 2, there is a large output class imbalance, where most individuals did not respond to the mailout. Thus, predicting individual classes and using accuracy does not seem to be an appropriate performance evaluation method. Instead, the competition will be using AUC to evaluate performance. The exact values of the \"RESPONSE\" column do not matter as much: only that the higher values try to capture as many of the actual customers as possible, early in the ROC curve sweep."
   ]
  },
  {
   "cell_type": "code",
   "execution_count": null,
   "metadata": {
    "ExecuteTime": {
     "end_time": "2019-12-09T01:57:10.113891Z",
     "start_time": "2019-12-09T01:46:21.124Z"
    }
   },
   "outputs": [],
   "source": [
    "mailout_test = pd.read_csv('../../data/Term2/capstone/arvato_data/Udacity_MAILOUT_052018_TEST.csv', sep=';')"
   ]
  },
  {
   "cell_type": "code",
   "execution_count": null,
   "metadata": {},
   "outputs": [],
   "source": []
  }
 ],
 "metadata": {
  "kernelspec": {
   "display_name": "Python 3",
   "language": "python",
   "name": "python3"
  },
  "language_info": {
   "codemirror_mode": {
    "name": "ipython",
    "version": 3
   },
   "file_extension": ".py",
   "mimetype": "text/x-python",
   "name": "python",
   "nbconvert_exporter": "python",
   "pygments_lexer": "ipython3",
   "version": "3.6.5"
  },
  "toc": {
   "base_numbering": 1,
   "nav_menu": {},
   "number_sections": true,
   "sideBar": true,
   "skip_h1_title": false,
   "title_cell": "Table of Contents",
   "title_sidebar": "Contents",
   "toc_cell": false,
   "toc_position": {},
   "toc_section_display": true,
   "toc_window_display": false
  },
  "varInspector": {
   "cols": {
    "lenName": 16,
    "lenType": 16,
    "lenVar": 40
   },
   "kernels_config": {
    "python": {
     "delete_cmd_postfix": "",
     "delete_cmd_prefix": "del ",
     "library": "var_list.py",
     "varRefreshCmd": "print(var_dic_list())"
    },
    "r": {
     "delete_cmd_postfix": ") ",
     "delete_cmd_prefix": "rm(",
     "library": "var_list.r",
     "varRefreshCmd": "cat(var_dic_list()) "
    }
   },
   "types_to_exclude": [
    "module",
    "function",
    "builtin_function_or_method",
    "instance",
    "_Feature"
   ],
   "window_display": false
  }
 },
 "nbformat": 4,
 "nbformat_minor": 2
}
